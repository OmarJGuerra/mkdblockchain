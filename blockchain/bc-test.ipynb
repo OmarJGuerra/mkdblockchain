{
 "cells": [
  {
   "cell_type": "code",
   "execution_count": 1,
   "metadata": {
    "collapsed": true
   },
   "outputs": [
    {
     "name": "stdout",
     "output_type": "stream",
     "text": [
      "START\n",
      "<KDNode - Block([40, 0, 0, 1625672563.248235], [])>\n",
      "<function create_root.<locals>.<lambda> at 0x0000020B1418DA60>\n"
     ]
    }
   ],
   "source": [
    "from mkd_blockchain import MKDBlockchain\n",
    "from blockchain_utils import BlockchainUtils\n",
    "import block\n",
    "from pubsub import pub\n",
    "from node import Node\n",
    "from transaction import Transaction\n",
    "from transaction_pool import TransactionPool\n",
    "from wallet import Wallet\n",
    "from Crypto.PublicKey import RSA\n",
    "import pprint\n",
    "import random\n",
    "import time\n",
    "from mkdtree import kdtree\n",
    "\n",
    "\"\"\"Initializes the number of nodes and generates the genesis block\"\"\"\n",
    "\n",
    "print('START')\n",
    "MAX_NODES = 9999\n",
    "num_nodes = 80\n",
    "\n",
    "node_id_list = [int(MAX_NODES / 2)]\n",
    "tree = kdtree.create_root(4, 40)\n",
    "\n",
    "print(tree)\n",
    "print(tree.sel_axis)"
   ]
  },
  {
   "cell_type": "code",
   "execution_count": null,
   "outputs": [],
   "source": [
    "\"\"\"Sets the initial clusters based on the data file\"\"\"\n",
    "\n",
    "#changes listeners subscription from one cluster to another.\n",
    "def move_listener(listener, old_topic, new_topic):\n",
    "    pub.unsubscribe(listener, old_topic) #core.TopicManager.getTopicsSubscribed(listener))\n",
    "    pub.subscribe(listener, new_topic)\n",
    "\n",
    "#Opens the data set file and generates nodes based on the provided data.\n",
    "#file is comma delimited in the following format: time-nodeID-xcoor-ycoor-miner-region-prevregion\n",
    "with open('node_data.txt') as f:\n",
    "    lines = f.readlines() # list containing lines of file\n",
    "    i = 0\n",
    "    node = []\n",
    "    for line in lines:\n",
    "        parts = line.split(',')\n",
    "        #itterates through based on the number of nodes provided.\n",
    "        if i < num_nodes:\n",
    "            new_node = Node(i + 1, parts[5])\n",
    "            new_node.startListener(\"c\" + str(parts[5]).strip())\n",
    "            node.append(new_node)\n",
    "        else:\n",
    "            move_listener(node[i % num_nodes].node_listener, \"c\" + str(parts[6]).strip(), \"c\" + str(parts[5]).strip())\n",
    "        i += 1"
   ],
   "metadata": {
    "collapsed": false,
    "pycharm": {
     "name": "#%%\n"
    }
   }
  },
  {
   "cell_type": "code",
   "execution_count": 2,
   "outputs": [
    {
     "name": "stdout",
     "output_type": "stream",
     "text": [
      "PRE-LOOP\n",
      "IN-LOOP\n",
      "IN-LOOP\n",
      "IN-LOOP\n",
      "IN-LOOP\n",
      "IN-LOOP\n",
      "IN-LOOP\n",
      "IN-LOOP\n",
      "IN-LOOP\n",
      "IN-LOOP\n",
      "POST-LOOP\n",
      "[4999, 5325, 50, 3264, 617, 4789, 2069, 2257, 9111, 9751]\n"
     ]
    }
   ],
   "source": [
    "print('PRE-LOOP')\n",
    "while True:\n",
    "    print('IN-LOOP')\n",
    "    selected_node = random.randint(0, num_nodes)\n",
    "    if selected_node not in node_id_list:\n",
    "        node_id_list.append(selected_node)\n",
    "    if len(node_id_list) == num_nodes:\n",
    "        break\n",
    "print('POST-LOOP')\n",
    "\n",
    "print(node_id_list)"
   ],
   "metadata": {
    "collapsed": false,
    "pycharm": {
     "name": "#%%\n"
    }
   }
  },
  {
   "cell_type": "code",
   "execution_count": 3,
   "outputs": [
    {
     "name": "stdout",
     "output_type": "stream",
     "text": [
      "node_id_list size: 10\n",
      "node_id_list: [4999, 5325, 50, 3264, 617, 4789, 2069, 2257, 9111, 9751]\n"
     ]
    }
   ],
   "source": [
    "print(f'node_id_list size: {len(node_id_list)}')\n",
    "print(f'node_id_list: {node_id_list}')\n",
    "\n",
    "# key_pair already exists in Wallet.py\n",
    "wallets = {}\n",
    "for n in node_id_list:\n",
    "    wallets[n] = Wallet()\n",
    "    # key_pairs[n] = RSA.generate(2048)\n"
   ],
   "metadata": {
    "collapsed": false,
    "pycharm": {
     "name": "#%%\n"
    }
   }
  },
  {
   "cell_type": "code",
   "execution_count": 4,
   "outputs": [
    {
     "ename": "ValueError",
     "evalue": "invalid literal for int() with base 10: '-----BEGIN PUBLIC KEY-----\\nMIIBIjANBgkqhkiG9w0BAQEFAAOCAQ8AMIIBCgKCAQEAzQpbympVpfK3908FgvJ7\\nlFiwOKQFUb/dPL4t7rcuS5ztMSeH82+5IKWSo8AgIxDtAB58fhk9nCc4X3gZsDXG\\nv4d8UR0ibdORIjdqUzePc0aeyxr/VANdfUK8/8M",
     "output_type": "error",
     "traceback": [
      "\u001B[1;31m---------------------------------------------------------------------------\u001B[0m",
      "\u001B[1;31mValueError\u001B[0m                                Traceback (most recent call last)",
      "\u001B[1;32m<ipython-input-4-001fb6c89c01>\u001B[0m in \u001B[0;36m<module>\u001B[1;34m\u001B[0m\n\u001B[0;32m     27\u001B[0m \u001B[1;33m\u001B[0m\u001B[0m\n\u001B[0;32m     28\u001B[0m \u001B[0mcreate_transaction_batch\u001B[0m\u001B[1;33m(\u001B[0m\u001B[0mpool1\u001B[0m\u001B[1;33m,\u001B[0m \u001B[1;34m'EXCHANGE'\u001B[0m\u001B[1;33m,\u001B[0m \u001B[1;36m1000\u001B[0m\u001B[1;33m)\u001B[0m\u001B[1;33m\u001B[0m\u001B[1;33m\u001B[0m\u001B[0m\n\u001B[1;32m---> 29\u001B[1;33m \u001B[0mcreate_transaction_batch\u001B[0m\u001B[1;33m(\u001B[0m\u001B[0mpool2\u001B[0m\u001B[1;33m,\u001B[0m \u001B[1;34m'EXCHANGE'\u001B[0m\u001B[1;33m,\u001B[0m \u001B[1;36m20000\u001B[0m\u001B[1;33m)\u001B[0m\u001B[1;33m\u001B[0m\u001B[1;33m\u001B[0m\u001B[0m\n\u001B[0m\u001B[0;32m     30\u001B[0m \u001B[1;33m\u001B[0m\u001B[0m\n\u001B[0;32m     31\u001B[0m create_transaction(list(wallets.values())[random.randint(0,1000)%4].public_key_string(),\n",
      "\u001B[1;32m<ipython-input-4-001fb6c89c01>\u001B[0m in \u001B[0;36mcreate_transaction_batch\u001B[1;34m(pool, t_type, t_num)\u001B[0m\n\u001B[0;32m     16\u001B[0m     \u001B[1;32mif\u001B[0m \u001B[0mpool1\u001B[0m\u001B[1;33m.\u001B[0m\u001B[0mforging_required\u001B[0m\u001B[1;33m(\u001B[0m\u001B[1;33m)\u001B[0m\u001B[1;33m:\u001B[0m\u001B[1;33m\u001B[0m\u001B[1;33m\u001B[0m\u001B[0m\n\u001B[0;32m     17\u001B[0m         \u001B[0mforger\u001B[0m \u001B[1;33m=\u001B[0m \u001B[0mlist\u001B[0m\u001B[1;33m(\u001B[0m\u001B[0mwallets\u001B[0m\u001B[1;33m.\u001B[0m\u001B[0mvalues\u001B[0m\u001B[1;33m(\u001B[0m\u001B[1;33m)\u001B[0m\u001B[1;33m)\u001B[0m\u001B[1;33m[\u001B[0m\u001B[1;33m(\u001B[0m\u001B[0mrandom\u001B[0m\u001B[1;33m.\u001B[0m\u001B[0mrandint\u001B[0m\u001B[1;33m(\u001B[0m\u001B[1;36m0\u001B[0m\u001B[1;33m,\u001B[0m\u001B[1;36m1000\u001B[0m\u001B[1;33m)\u001B[0m\u001B[1;33m%\u001B[0m\u001B[1;36m10\u001B[0m\u001B[1;33m)\u001B[0m\u001B[1;33m]\u001B[0m\u001B[1;33m\u001B[0m\u001B[1;33m\u001B[0m\u001B[0m\n\u001B[1;32m---> 18\u001B[1;33m         \u001B[0mchain1\u001B[0m\u001B[1;33m.\u001B[0m\u001B[0madd_block\u001B[0m\u001B[1;33m(\u001B[0m\u001B[0mchain1\u001B[0m\u001B[1;33m.\u001B[0m\u001B[0mcreate_block\u001B[0m\u001B[1;33m(\u001B[0m\u001B[0mpool1\u001B[0m\u001B[1;33m.\u001B[0m\u001B[0mtransactions\u001B[0m\u001B[1;33m,\u001B[0m \u001B[0mforger\u001B[0m\u001B[1;33m)\u001B[0m\u001B[1;33m)\u001B[0m\u001B[1;33m\u001B[0m\u001B[1;33m\u001B[0m\u001B[0m\n\u001B[0m\u001B[0;32m     19\u001B[0m         \u001B[0mpool1\u001B[0m\u001B[1;33m.\u001B[0m\u001B[0mremove_from_pool\u001B[0m\u001B[1;33m(\u001B[0m\u001B[0mpool1\u001B[0m\u001B[1;33m.\u001B[0m\u001B[0mtransactions\u001B[0m\u001B[1;33m)\u001B[0m\u001B[1;33m\u001B[0m\u001B[1;33m\u001B[0m\u001B[0m\n\u001B[0;32m     20\u001B[0m     \u001B[1;32mfor\u001B[0m \u001B[0mi\u001B[0m \u001B[1;32min\u001B[0m \u001B[0mrange\u001B[0m\u001B[1;33m(\u001B[0m\u001B[1;36m0\u001B[0m\u001B[1;33m,\u001B[0m\u001B[0mt_num\u001B[0m\u001B[1;33m)\u001B[0m\u001B[1;33m:\u001B[0m\u001B[1;33m\u001B[0m\u001B[1;33m\u001B[0m\u001B[0m\n",
      "\u001B[1;32mE:\\PyCharm Projects\\mkdblockchain\\blockchain\\mkd_blockchain.py\u001B[0m in \u001B[0;36mcreate_block\u001B[1;34m(self, transactions_from_pool, forger_wallet)\u001B[0m\n\u001B[0;32m     97\u001B[0m         \u001B[0mself\u001B[0m\u001B[1;33m.\u001B[0m\u001B[0mexecute_transactions\u001B[0m\u001B[1;33m(\u001B[0m\u001B[0mcovered_transactions\u001B[0m\u001B[1;33m)\u001B[0m\u001B[1;33m\u001B[0m\u001B[1;33m\u001B[0m\u001B[0m\n\u001B[0;32m     98\u001B[0m         \u001B[0mnew_block\u001B[0m \u001B[1;33m=\u001B[0m \u001B[0mforger_wallet\u001B[0m\u001B[1;33m.\u001B[0m\u001B[0mcreate_block\u001B[0m\u001B[1;33m(\u001B[0m\u001B[0mcovered_transactions\u001B[0m\u001B[1;33m,\u001B[0m \u001B[0mlen\u001B[0m\u001B[1;33m(\u001B[0m\u001B[0mself\u001B[0m\u001B[1;33m.\u001B[0m\u001B[0mblocks\u001B[0m\u001B[1;33m)\u001B[0m\u001B[1;33m,\u001B[0m \u001B[1;36m9\u001B[0m\u001B[1;33m)\u001B[0m\u001B[1;33m\u001B[0m\u001B[1;33m\u001B[0m\u001B[0m\n\u001B[1;32m---> 99\u001B[1;33m         \u001B[0mself\u001B[0m\u001B[1;33m.\u001B[0m\u001B[0mblocks\u001B[0m\u001B[1;33m.\u001B[0m\u001B[0madd\u001B[0m\u001B[1;33m(\u001B[0m\u001B[0mnew_block\u001B[0m\u001B[1;33m)\u001B[0m\u001B[1;33m\u001B[0m\u001B[1;33m\u001B[0m\u001B[0m\n\u001B[0m\u001B[0;32m    100\u001B[0m         \u001B[1;32mreturn\u001B[0m \u001B[0mnew_block\u001B[0m\u001B[1;33m\u001B[0m\u001B[1;33m\u001B[0m\u001B[0m\n\u001B[0;32m    101\u001B[0m \u001B[1;33m\u001B[0m\u001B[0m\n",
      "\u001B[1;32mE:\\PyCharm Projects\\mkdblockchain\\mkdtree\\kdtree.py\u001B[0m in \u001B[0;36m_wrapper\u001B[1;34m(self, *args, **kwargs)\u001B[0m\n\u001B[0;32m    186\u001B[0m                              dict(func_name=f.__name__, node=repr(self)))\n\u001B[0;32m    187\u001B[0m \u001B[1;33m\u001B[0m\u001B[0m\n\u001B[1;32m--> 188\u001B[1;33m         \u001B[1;32mreturn\u001B[0m \u001B[0mf\u001B[0m\u001B[1;33m(\u001B[0m\u001B[0mself\u001B[0m\u001B[1;33m,\u001B[0m \u001B[1;33m*\u001B[0m\u001B[0margs\u001B[0m\u001B[1;33m,\u001B[0m \u001B[1;33m**\u001B[0m\u001B[0mkwargs\u001B[0m\u001B[1;33m)\u001B[0m\u001B[1;33m\u001B[0m\u001B[1;33m\u001B[0m\u001B[0m\n\u001B[0m\u001B[0;32m    189\u001B[0m \u001B[1;33m\u001B[0m\u001B[0m\n\u001B[0;32m    190\u001B[0m     \u001B[1;32mreturn\u001B[0m \u001B[0m_wrapper\u001B[0m\u001B[1;33m\u001B[0m\u001B[1;33m\u001B[0m\u001B[0m\n",
      "\u001B[1;32mE:\\PyCharm Projects\\mkdblockchain\\mkdtree\\kdtree.py\u001B[0m in \u001B[0;36madd\u001B[1;34m(self, point)\u001B[0m\n\u001B[0;32m    263\u001B[0m \u001B[1;33m\u001B[0m\u001B[0m\n\u001B[0;32m    264\u001B[0m             \u001B[1;31m# split on self.axis, recurse either left or right\u001B[0m\u001B[1;33m\u001B[0m\u001B[1;33m\u001B[0m\u001B[1;33m\u001B[0m\u001B[0m\n\u001B[1;32m--> 265\u001B[1;33m             \u001B[1;32mif\u001B[0m \u001B[0mint\u001B[0m\u001B[1;33m(\u001B[0m\u001B[0mpoint\u001B[0m\u001B[1;33m[\u001B[0m\u001B[0mcurrent\u001B[0m\u001B[1;33m.\u001B[0m\u001B[0maxis\u001B[0m\u001B[1;33m]\u001B[0m\u001B[1;33m)\u001B[0m \u001B[1;33m<\u001B[0m \u001B[0mint\u001B[0m\u001B[1;33m(\u001B[0m\u001B[0mcurrent\u001B[0m\u001B[1;33m.\u001B[0m\u001B[0mdata\u001B[0m\u001B[1;33m[\u001B[0m\u001B[0mcurrent\u001B[0m\u001B[1;33m.\u001B[0m\u001B[0maxis\u001B[0m\u001B[1;33m]\u001B[0m\u001B[1;33m)\u001B[0m\u001B[1;33m:\u001B[0m\u001B[1;33m\u001B[0m\u001B[1;33m\u001B[0m\u001B[0m\n\u001B[0m\u001B[0;32m    266\u001B[0m                 \u001B[0mright_hash\u001B[0m \u001B[1;33m=\u001B[0m \u001B[0mBU\u001B[0m\u001B[1;33m.\u001B[0m\u001B[0mhash\u001B[0m\u001B[1;33m(\u001B[0m\u001B[0mcurrent\u001B[0m\u001B[1;33m.\u001B[0m\u001B[0mright\u001B[0m\u001B[1;33m.\u001B[0m\u001B[0msubtree_hash\u001B[0m\u001B[1;33m)\u001B[0m \u001B[1;32mif\u001B[0m \u001B[0mcurrent\u001B[0m\u001B[1;33m.\u001B[0m\u001B[0mright\u001B[0m \u001B[1;32mis\u001B[0m \u001B[1;32mnot\u001B[0m \u001B[1;32mNone\u001B[0m \u001B[1;32melse\u001B[0m \u001B[0mBU\u001B[0m\u001B[1;33m.\u001B[0m\u001B[0mhash\u001B[0m\u001B[1;33m(\u001B[0m\u001B[1;32mNone\u001B[0m\u001B[1;33m)\u001B[0m\u001B[1;33m\u001B[0m\u001B[1;33m\u001B[0m\u001B[0m\n\u001B[0;32m    267\u001B[0m                 \u001B[1;32mif\u001B[0m \u001B[0mcurrent\u001B[0m\u001B[1;33m.\u001B[0m\u001B[0mleft\u001B[0m \u001B[1;32mis\u001B[0m \u001B[1;32mNone\u001B[0m\u001B[1;33m:\u001B[0m\u001B[1;33m\u001B[0m\u001B[1;33m\u001B[0m\u001B[0m\n",
      "\u001B[1;31mValueError\u001B[0m: invalid literal for int() with base 10: '-----BEGIN PUBLIC KEY-----\\nMIIBIjANBgkqhkiG9w0BAQEFAAOCAQ8AMIIBCgKCAQEAzQpbympVpfK3908FgvJ7\\nlFiwOKQFUb/dPL4t7rcuS5ztMSeH82+5IKWSo8AgIxDtAB58fhk9nCc4X3gZsDXG\\nv4d8UR0ibdORIjdqUzePc0aeyxr/VANdfUK8/8M"
     ]
    }
   ],
   "source": [
    "FORGE_POINT = 3\n",
    "\n",
    "chain1 = MKDBlockchain()\n",
    "chain2 = MKDBlockchain()\n",
    "\n",
    "pool1 = TransactionPool()\n",
    "pool2 = TransactionPool()\n",
    "\n",
    "\n",
    "def create_transaction(sender, receiver, pool, amount, tr_type):\n",
    "    transaction = Transaction(sender, receiver, amount, tr_type)\n",
    "    if not pool.transaction_exists(transaction):\n",
    "        pool.add_transaction(transaction)\n",
    "\n",
    "def create_transaction_batch(pool, t_type, t_num):\n",
    "    if pool1.forging_required():\n",
    "        forger = list(wallets.values())[(random.randint(0,1000)%10)]\n",
    "        chain1.add_block(chain1.create_block(pool1.transactions, forger))\n",
    "        pool1.remove_from_pool(pool1.transactions)\n",
    "    for i in range(0,t_num):\n",
    "        # create_transaction(sender, receiver, pool, random.randint(0, 500), t_type)\n",
    "        sender = list(wallets.values())[(random.randint(0,1000)%10)].public_key_string()\n",
    "        receiver = list(wallets.values())[(random.randint(0,1000)%10)].public_key_string()\n",
    "\n",
    "        create_transaction(sender, receiver, pool, random.randint(0, 500), t_type)\n",
    "\n",
    "\n",
    "create_transaction_batch(pool1, 'EXCHANGE', 1000)\n",
    "create_transaction_batch(pool2, 'EXCHANGE', 20000)\n",
    "\n",
    "create_transaction(list(wallets.values())[random.randint(0,1000)%4].public_key_string(),\n",
    "                   list(wallets.values())[random.randint(0,1000)%4].public_key_string(),\n",
    "                   pool2, 226, 'TRANSFER')\n",
    "\n",
    "ts = [t.to_json() for t in pool1.transactions]\n",
    "\n",
    "# pprint.pprint(ts)\n",
    "# pprint.pprint(pool1.transactions)\n",
    "pprint.pprint(chain1.to_json())\n",
    "\n",
    "\n",
    "print(chain1)\n",
    "print('END')\n"
   ],
   "metadata": {
    "collapsed": false,
    "pycharm": {
     "name": "#%%\n"
    }
   }
  }
 ],
 "metadata": {
  "kernelspec": {
   "name": "pycharm-c130968e",
   "language": "python",
   "display_name": "PyCharm (MKD-Blockchain)"
  },
  "language_info": {
   "codemirror_mode": {
    "name": "ipython",
    "version": 2
   },
   "file_extension": ".py",
   "mimetype": "text/x-python",
   "name": "python",
   "nbconvert_exporter": "python",
   "pygments_lexer": "ipython2",
   "version": "2.7.6"
  }
 },
 "nbformat": 4,
 "nbformat_minor": 0
}