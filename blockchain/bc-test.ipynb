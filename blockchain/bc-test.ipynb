{
 "cells": [
  {
   "cell_type": "code",
   "execution_count": 1,
   "metadata": {
    "collapsed": true
   },
   "outputs": [
    {
     "name": "stdout",
     "output_type": "stream",
     "text": [
      "START\n"
     ]
    },
    {
     "ename": "TypeError",
     "evalue": "create_root() missing 1 required positional argument: 'forger'",
     "output_type": "error",
     "traceback": [
      "\u001B[1;31m---------------------------------------------------------------------------\u001B[0m",
      "\u001B[1;31mTypeError\u001B[0m                                 Traceback (most recent call last)",
      "\u001B[1;32m<ipython-input-1-903fb908cce7>\u001B[0m in \u001B[0;36m<module>\u001B[1;34m\u001B[0m\n\u001B[0;32m     20\u001B[0m \u001B[1;33m\u001B[0m\u001B[0m\n\u001B[0;32m     21\u001B[0m \u001B[0mnode_id_list\u001B[0m \u001B[1;33m=\u001B[0m \u001B[1;33m[\u001B[0m\u001B[0mint\u001B[0m\u001B[1;33m(\u001B[0m\u001B[0mMAX_NODES\u001B[0m \u001B[1;33m/\u001B[0m \u001B[1;36m2\u001B[0m\u001B[1;33m)\u001B[0m\u001B[1;33m]\u001B[0m\u001B[1;33m\u001B[0m\u001B[1;33m\u001B[0m\u001B[0m\n\u001B[1;32m---> 22\u001B[1;33m \u001B[0mtree\u001B[0m \u001B[1;33m=\u001B[0m \u001B[0mkdtree\u001B[0m\u001B[1;33m.\u001B[0m\u001B[0mcreate_root\u001B[0m\u001B[1;33m(\u001B[0m\u001B[1;36m4\u001B[0m\u001B[1;33m,\u001B[0m \u001B[1;36m40\u001B[0m\u001B[1;33m)\u001B[0m\u001B[1;33m\u001B[0m\u001B[1;33m\u001B[0m\u001B[0m\n\u001B[0m\u001B[0;32m     23\u001B[0m \u001B[1;33m\u001B[0m\u001B[0m\n\u001B[0;32m     24\u001B[0m \u001B[0mprint\u001B[0m\u001B[1;33m(\u001B[0m\u001B[0mtree\u001B[0m\u001B[1;33m)\u001B[0m\u001B[1;33m\u001B[0m\u001B[1;33m\u001B[0m\u001B[0m\n",
      "\u001B[1;31mTypeError\u001B[0m: create_root() missing 1 required positional argument: 'forger'"
     ]
    }
   ],
   "source": [
    "from mkd_blockchain import MKDBlockchain\n",
    "from blockchain_utils import BlockchainUtils\n",
    "import block\n",
    "from pubsub import pub\n",
    "from node import Node\n",
    "from transaction import Transaction\n",
    "from transaction_pool import TransactionPool\n",
    "from wallet import Wallet\n",
    "from Crypto.PublicKey import RSA\n",
    "import pprint\n",
    "import random\n",
    "import time\n",
    "from mkdtree import kdtree\n",
    "\n",
    "\"\"\"Initializes the number of nodes and generates the genesis block\"\"\"\n",
    "\n",
    "print('START')\n",
    "MAX_NODES = 9999\n",
    "num_nodes = 80\n",
    "\n",
    "node_id_list = [int(MAX_NODES / 2)]\n",
    "tree = kdtree.create_root(4, 40)\n",
    "\n",
    "print(tree)\n",
    "print(tree.sel_axis)"
   ]
  },
  {
   "cell_type": "code",
   "execution_count": null,
   "outputs": [],
   "source": [
    "\"\"\"Sets the initial clusters based on the data file\"\"\"\n",
    "\n",
    "#changes listeners subscription from one cluster to another.\n",
    "def move_listener(listener, old_topic, new_topic):\n",
    "    pub.unsubscribe(listener, old_topic) #core.TopicManager.getTopicsSubscribed(listener))\n",
    "    pub.subscribe(listener, new_topic)\n",
    "\n",
    "#Opens the data set file and generates nodes based on the provided data.\n",
    "#file is comma delimited in the following format: time-nodeID-xcoor-ycoor-miner-region-prevregion\n",
    "with open('node_data.txt') as f:\n",
    "    lines = f.readlines() # list containing lines of file\n",
    "    i = 0\n",
    "    node = []\n",
    "    for line in lines:\n",
    "        parts = line.split(',')\n",
    "        #itterates through based on the number of nodes provided.\n",
    "        if i < num_nodes:\n",
    "            new_node = Node(i + 1, parts[5])\n",
    "            new_node.startListener(\"c\" + str(parts[5]).strip())\n",
    "            node.append(new_node)\n",
    "        else:\n",
    "            move_listener(node[i % num_nodes].node_listener, \"c\" + str(parts[6]).strip(), \"c\" + str(parts[5]).strip())\n",
    "        i += 1"
   ],
   "metadata": {
    "collapsed": false,
    "pycharm": {
     "name": "#%%\n"
    }
   }
  },
  {
   "cell_type": "code",
   "execution_count": null,
   "outputs": [],
   "source": [
    "print('PRE-LOOP')\n",
    "while True:\n",
    "    print('IN-LOOP')\n",
    "    selected_node = random.randint(0, num_nodes)\n",
    "    if selected_node not in node_id_list:\n",
    "        node_id_list.append(selected_node)\n",
    "    if len(node_id_list) == num_nodes:\n",
    "        break\n",
    "print('POST-LOOP')\n",
    "\n",
    "print(node_id_list)"
   ],
   "metadata": {
    "collapsed": false,
    "pycharm": {
     "name": "#%%\n"
    }
   }
  },
  {
   "cell_type": "code",
   "execution_count": null,
   "outputs": [],
   "source": [
    "print(f'node_id_list size: {len(node_id_list)}')\n",
    "print(f'node_id_list: {node_id_list}')\n",
    "\n",
    "# key_pair already exists in Wallet.py\n",
    "wallets = {}\n",
    "for n in node_id_list:\n",
    "    wallets[n] = Wallet()\n",
    "    # key_pairs[n] = RSA.generate(2048)\n"
   ],
   "metadata": {
    "collapsed": false,
    "pycharm": {
     "name": "#%%\n"
    }
   }
  },
  {
   "cell_type": "code",
   "execution_count": null,
   "outputs": [],
   "source": [
    "FORGE_POINT = 3\n",
    "\n",
    "chain1 = MKDBlockchain()\n",
    "chain2 = MKDBlockchain()\n",
    "\n",
    "pool1 = TransactionPool()\n",
    "pool2 = TransactionPool()\n",
    "\n",
    "\n",
    "def create_transaction(sender, receiver, pool, amount, tr_type):\n",
    "    transaction = Transaction(sender, receiver, amount, tr_type)\n",
    "    if not pool.transaction_exists(transaction):\n",
    "        pool.add_transaction(transaction)\n",
    "\n",
    "def create_transaction_batch(pool, t_type, t_num):\n",
    "    if pool1.forging_required():\n",
    "        forger = list(wallets.values())[(random.randint(0,1000)%10)]\n",
    "        chain1.add_block(chain1.create_block(pool1.transactions, forger))\n",
    "        pool1.remove_from_pool(pool1.transactions)\n",
    "    for i in range(0,t_num):\n",
    "        # create_transaction(sender, receiver, pool, random.randint(0, 500), t_type)\n",
    "        sender = list(wallets.values())[(random.randint(0,1000)%10)].public_key_string()\n",
    "        receiver = list(wallets.values())[(random.randint(0,1000)%10)].public_key_string()\n",
    "\n",
    "        create_transaction(sender, receiver, pool, random.randint(0, 500), t_type)\n",
    "\n",
    "\n",
    "create_transaction_batch(pool1, 'EXCHANGE', 1000)\n",
    "create_transaction_batch(pool2, 'EXCHANGE', 20000)\n",
    "\n",
    "create_transaction(list(wallets.values())[random.randint(0,1000)%4].public_key_string(),\n",
    "                   list(wallets.values())[random.randint(0,1000)%4].public_key_string(),\n",
    "                   pool2, 226, 'TRANSFER')\n",
    "\n",
    "ts = [t.to_json() for t in pool1.transactions]\n",
    "\n",
    "# pprint.pprint(ts)\n",
    "# pprint.pprint(pool1.transactions)\n",
    "pprint.pprint(chain1.to_json())\n",
    "\n",
    "\n",
    "print(chain1)\n",
    "print('END')\n"
   ],
   "metadata": {
    "collapsed": false,
    "pycharm": {
     "name": "#%%\n"
    }
   }
  }
 ],
 "metadata": {
  "kernelspec": {
   "name": "python3",
   "language": "python",
   "display_name": "Python 3"
  },
  "language_info": {
   "codemirror_mode": {
    "name": "ipython",
    "version": 2
   },
   "file_extension": ".py",
   "mimetype": "text/x-python",
   "name": "python",
   "nbconvert_exporter": "python",
   "pygments_lexer": "ipython2",
   "version": "2.7.6"
  }
 },
 "nbformat": 4,
 "nbformat_minor": 0
}