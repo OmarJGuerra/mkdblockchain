{
 "cells": [
  {
   "cell_type": "code",
   "execution_count": 1,
   "metadata": {},
   "outputs": [],
   "source": [
    "import numpy as np\n",
    "import kdtree\n",
    "import time\n",
    "\n",
    "\n",
    "class MkdBlockchain():\n",
    "    def __init__(self):\n",
    "        self.blocks = []\n",
    "\n",
    "\n",
    "class Blockchain():\n",
    "    def __init__(self):\n",
    "        self.blocks = []\n",
    "\n",
    "class Block():\n",
    "    def __init__(self, transactions, lastHash, forger, blockCount):\n",
    "        self.blockCount = blockCount\n",
    "        self.transactions = transactions\n",
    "        self.lastHash = lastHash\n",
    "        self.timestamp = time.time()\n",
    "        self.forger = forger\n",
    "        \n",
    "class nkdBlock():\n",
    "    def __init__(self, transactions, lastHash, forger, blockCount):\n",
    "        self.blockCount = blockCount\n",
    "        self.transactions = transactions\n",
    "        self.lastHash = lastHash\n",
    "        self.timestamp = time.time()\n",
    "        self.forger = forger\n",
    "\n",
    "\n",
    "mkdbc = MkdBlockchain()\n",
    "bc = Blockchain()\n"
   ]
  },
  {
   "cell_type": "code",
   "execution_count": null,
   "metadata": {},
   "outputs": [],
   "source": []
  },
  {
   "cell_type": "code",
   "execution_count": 2,
   "metadata": {},
   "outputs": [
    {
     "name": "stdout",
     "output_type": "stream",
     "text": [
      "<KDNode - Item(3, 4, Second)>\n",
      "Second\n",
      "(<KDNode - Item(2, 3, First)>, 2.0)\n"
     ]
    }
   ],
   "source": [
    "# This class emulates a tuple, but contains a useful payload\n",
    "class Item(object):\n",
    "    def __init__(self, x, y, data):\n",
    "        self.coords = (x, y)\n",
    "        self.data = data\n",
    "\n",
    "    def __len__(self):\n",
    "        return len(self.coords)\n",
    "\n",
    "    def __getitem__(self, i):\n",
    "        return self.coords[i]\n",
    "\n",
    "    def __repr__(self):\n",
    "        return 'Item({}, {}, {})'.format(self.coords[0], self.coords[1], self.data)\n",
    "\n",
    "# Now we can add Items to the tree, which look like tuples to it\n",
    "point1 = Item(2, 3, 'First')\n",
    "point2 = Item(3, 4, 'Second')\n",
    "point3 = Item(5, 2, ['some', 'list'])\n",
    "\n",
    "# Again, from a list of points\n",
    "tree = kdtree.create([point1, point2, point3])\n",
    "\n",
    "#  The root node\n",
    "print(tree)\n",
    "\n",
    "# ...contains \"data\" field with an Item, which contains the payload in \"data\" field\n",
    "print(tree.data.data)\n",
    "\n",
    "# All functions work as intended, a payload is never lost\n",
    "print(tree.search_nn([1, 2]))"
   ]
  },
  {
   "cell_type": "code",
   "execution_count": 6,
   "metadata": {},
   "outputs": [
    {
     "data": {
      "text/plain": [
       "<KDNode - [4, 5, 6]>"
      ]
     },
     "execution_count": 6,
     "metadata": {},
     "output_type": "execute_result"
    }
   ],
   "source": [
    "# Create an empty tree by specifying the number of\n",
    "# dimensions its points will have\n",
    "emptyTree = kdtree.create(dimensions=3)\n",
    "\n",
    "# A kd-tree can contain different kinds of points, for example tuples\n",
    "point1 = (2, 3, 4)\n",
    "\n",
    "# Lists can also be used as points\n",
    "point2 = [4, 5, 6]\n",
    "\n",
    "# Other objects that support indexing can be used, too\n",
    "import collections\n",
    "Point = collections.namedtuple('Point', 'x y z')\n",
    "point3 = [5, 3, 2]\n",
    "\n",
    "# A tree is created from a list of points\n",
    "tree = kdtree.create([point1, point2, point3])\n",
    "\n",
    "# Each (sub)tree is represented by its root node\n",
    "tree\n",
    "\n",
    "\n"
   ]
  },
  {
   "cell_type": "code",
   "execution_count": 7,
   "metadata": {},
   "outputs": [
    {
     "data": {
      "text/plain": [
       "[<KDNode - (2, 3, 4)>, <KDNode - [4, 5, 6]>, <KDNode - [5, 3, 2]>]"
      ]
     },
     "execution_count": 7,
     "metadata": {},
     "output_type": "execute_result"
    }
   ],
   "source": [
    "# Adds a tuple to the tree\n",
    "tree.add( (5, 4, 3) )\n",
    "\n",
    "# Removes the previously added point and returns the new root\n",
    "tree = tree.remove( (5, 4, 3) )\n",
    "\n",
    "# Retrieving the Tree in inorder\n",
    "list(tree.inorder())\n",
    "\n",
    "\n",
    "\n",
    "\n"
   ]
  },
  {
   "cell_type": "code",
   "execution_count": 8,
   "metadata": {},
   "outputs": [
    {
     "data": {
      "text/plain": [
       "[<KDNode - [4, 5, 6]>, <KDNode - (2, 3, 4)>, <KDNode - [5, 3, 2]>]"
      ]
     },
     "execution_count": 8,
     "metadata": {},
     "output_type": "execute_result"
    }
   ],
   "source": [
    "# Retrieving the Tree in level order\n",
    "list(kdtree.level_order(tree))\n",
    "\n"
   ]
  },
  {
   "cell_type": "code",
   "execution_count": 9,
   "metadata": {},
   "outputs": [
    {
     "data": {
      "text/plain": [
       "(<KDNode - (2, 3, 4)>, 3.0)"
      ]
     },
     "execution_count": 9,
     "metadata": {},
     "output_type": "execute_result"
    }
   ],
   "source": [
    "# Find the nearest node to the location (1, 2, 3)\n",
    "tree.search_nn( (1, 2, 3) )\n",
    "\n"
   ]
  },
  {
   "cell_type": "code",
   "execution_count": 10,
   "metadata": {},
   "outputs": [
    {
     "data": {
      "text/plain": [
       "<KDNode - (10, 2, 1)>"
      ]
     },
     "execution_count": 10,
     "metadata": {},
     "output_type": "execute_result"
    }
   ],
   "source": [
    "# Add a point to make the tree more interesting\n",
    "tree.add( (10, 2, 1) )\n",
    "\n"
   ]
  },
  {
   "cell_type": "code",
   "execution_count": 11,
   "metadata": {},
   "outputs": [
    {
     "name": "stdout",
     "output_type": "stream",
     "text": [
      "\n",
      "\n",
      "                     [4, 5, 6]                 \n",
      "\n",
      "           (2, 3, 4)            [5, 3, 2]       \n",
      "\n",
      "                            (10, 2, 1)            \n",
      "\n"
     ]
    }
   ],
   "source": [
    "# Visualize the Tree\n",
    "kdtree.visualize(tree)\n",
    "\n",
    "\n"
   ]
  },
  {
   "cell_type": "code",
   "execution_count": 13,
   "metadata": {},
   "outputs": [
    {
     "name": "stdout",
     "output_type": "stream",
     "text": [
      "\n",
      "\n",
      "                                         [4, 5, 6]                                     \n",
      "\n",
      "                     (2, 3, 4)                                [5, 3, 2]                 \n",
      "\n",
      "                                                     (10, 2, 1)         (100, 400, 0)     \n",
      "\n",
      "                                                  (100, 2, 0)                                  \n",
      "\n"
     ]
    }
   ],
   "source": [
    "tree.add( (100, 2, 0) )\n",
    "# Visualize the Tree\n",
    "kdtree.visualize(tree)"
   ]
  },
  {
   "cell_type": "code",
   "execution_count": 28,
   "metadata": {},
   "outputs": [
    {
     "name": "stdout",
     "output_type": "stream",
     "text": [
      "\n",
      "\n",
      "                                         (6, 1, 5)                                     \n",
      "\n",
      "                     (2, 3, 4)                                                          \n",
      "\n",
      "           (6, 1, 5)            [4, 5, 6]                                                 \n",
      "\n",
      "      (6, 1, 5)  (6, 1, 5)  Point(x=5, y=3, z=2)                                                        \n",
      "\n"
     ]
    }
   ],
   "source": [
    "# Take the right subtree of the root\n",
    "subtree = tree.right\n",
    "\n",
    "# and detatch it\n",
    "tree.right = None\n",
    "kdtree.visualize(tree)\n",
    "\n",
    "\n",
    "\n"
   ]
  },
  {
   "cell_type": "code",
   "execution_count": 30,
   "metadata": {},
   "outputs": [
    {
     "name": "stdout",
     "output_type": "stream",
     "text": [
      "\n",
      "\n",
      "                     (10, 2, 1)                \n",
      "\n",
      "           (6, 1, 5)            (10, 2, 1)      \n",
      "\n",
      "      (10, 2, 1) (6, 1, 5)  (10, 2, 1)            \n",
      "\n"
     ]
    }
   ],
   "source": [
    "kdtree.visualize(subtree)\n",
    "\n",
    "\n",
    "\n"
   ]
  },
  {
   "cell_type": "code",
   "execution_count": 31,
   "metadata": {},
   "outputs": [
    {
     "name": "stdout",
     "output_type": "stream",
     "text": [
      "\n",
      "\n",
      "                                         (6, 1, 5)                                     \n",
      "\n",
      "                     (2, 3, 4)                                (10, 2, 1)                \n",
      "\n",
      "           (6, 1, 5)            [4, 5, 6]            (6, 1, 5)            (10, 2, 1)      \n",
      "\n",
      "      (6, 1, 5)  (6, 1, 5)  Point(x=5, y=3, z=2)            (10, 2, 1) (6, 1, 5)  (10, 2, 1)            \n",
      "\n"
     ]
    }
   ],
   "source": [
    "# and re-attach it\n",
    "tree.right = subtree\n",
    "kdtree.visualize(tree)\n",
    "\n",
    "\n"
   ]
  },
  {
   "cell_type": "code",
   "execution_count": 33,
   "metadata": {},
   "outputs": [
    {
     "data": {
      "text/plain": [
       "True"
      ]
     },
     "execution_count": 33,
     "metadata": {},
     "output_type": "execute_result"
    }
   ],
   "source": [
    "# Add a node to make the tree unbalanced\n",
    "tree.is_balanced\n",
    "\n"
   ]
  },
  {
   "cell_type": "code",
   "execution_count": 34,
   "metadata": {},
   "outputs": [
    {
     "data": {
      "text/plain": [
       "True"
      ]
     },
     "execution_count": 34,
     "metadata": {},
     "output_type": "execute_result"
    }
   ],
   "source": [
    "tree.add( (6, 1, 5) )\n",
    "tree.is_balanced\n",
    "\n"
   ]
  },
  {
   "cell_type": "code",
   "execution_count": 35,
   "metadata": {},
   "outputs": [
    {
     "name": "stdout",
     "output_type": "stream",
     "text": [
      "\n",
      "\n",
      "                                                                                 (6, 1, 5)                                                                             \n",
      "\n",
      "                                         (6, 1, 5)                                                                        (10, 2, 1)                                    \n",
      "\n",
      "                     (6, 1, 5)                                (2, 3, 4)                                (6, 1, 5)                                (10, 2, 1)                \n",
      "\n",
      "           (6, 1, 5)            (6, 1, 5)       Point(x=5, y=3, z=2)      [4, 5, 6]            (10, 2, 1)           (6, 1, 5)            (10, 2, 1)                           \n",
      "\n",
      "                                                                                                                               (6, 1, 5)                                              \n",
      "\n"
     ]
    }
   ],
   "source": [
    "kdtree.visualize(tree)\n",
    "\n"
   ]
  },
  {
   "cell_type": "code",
   "execution_count": 37,
   "metadata": {},
   "outputs": [
    {
     "data": {
      "text/plain": [
       "True"
      ]
     },
     "execution_count": 37,
     "metadata": {},
     "output_type": "execute_result"
    }
   ],
   "source": [
    "# rebalance the tree\n",
    "tree = tree.rebalance()\n",
    "tree.is_balanced\n",
    "\n"
   ]
  },
  {
   "cell_type": "code",
   "execution_count": 38,
   "metadata": {},
   "outputs": [
    {
     "name": "stdout",
     "output_type": "stream",
     "text": [
      "\n",
      "\n",
      "                                         (6, 1, 5)                                     \n",
      "\n",
      "                     (6, 1, 5)                                (10, 2, 1)                \n",
      "\n",
      "           (6, 1, 5)            (2, 3, 4)            (6, 1, 5)            (10, 2, 1)      \n",
      "\n",
      "      (6, 1, 5)  (6, 1, 5)  Point(x=5, y=3, z=2) [4, 5, 6]  (6, 1, 5)  (6, 1, 5)  (10, 2, 1) (10, 2, 1) \n",
      "\n"
     ]
    }
   ],
   "source": [
    "kdtree.visualize(tree)"
   ]
  },
  {
   "cell_type": "code",
   "execution_count": null,
   "metadata": {},
   "outputs": [],
   "source": []
  }
 ],
 "metadata": {
  "kernelspec": {
   "display_name": "Python 3",
   "language": "python",
   "name": "python3"
  },
  "language_info": {
   "codemirror_mode": {
    "name": "ipython",
    "version": 3
   },
   "file_extension": ".py",
   "mimetype": "text/x-python",
   "name": "python",
   "nbconvert_exporter": "python",
   "pygments_lexer": "ipython3",
   "version": "3.8.5"
  }
 },
 "nbformat": 4,
 "nbformat_minor": 4
}