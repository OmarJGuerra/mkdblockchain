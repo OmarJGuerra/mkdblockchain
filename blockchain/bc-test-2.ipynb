{
 "cells": [
  {
   "cell_type": "code",
   "execution_count": 1,
   "metadata": {
    "collapsed": true
   },
   "outputs": [],
   "source": [
    "\"\"\"Import all the relevant libraries.\"\"\"\n",
    "\n",
    "from mkd_blockchain import MKDBlockchain\n",
    "from blockchain_utils import BlockchainUtils\n",
    "import block\n",
    "from pubsub import pub\n",
    "from node import Node\n",
    "from transaction import Transaction\n",
    "from transaction_pool import TransactionPool\n",
    "from wallet import Wallet\n",
    "from Crypto.PublicKey import RSA\n",
    "import pprint\n",
    "import random\n",
    "import time\n",
    "from mkdtree import kdtree\n"
   ]
  },
  {
   "cell_type": "code",
   "execution_count": 2,
   "outputs": [
    {
     "name": "stdout",
     "output_type": "stream",
     "text": [
      "START\n",
      "block init time @ 10 nodes: 21.862640380859375\n",
      "c1 received payload: <mkd_blockchain.MKDBlockchain object at 0x000001AB07E06850>\n",
      "c2 received payload: <mkd_blockchain.MKDBlockchain object at 0x000001AB07E06850>\n",
      "c3 received payload: <mkd_blockchain.MKDBlockchain object at 0x000001AB07E06850>\n",
      "c4 received payload: <mkd_blockchain.MKDBlockchain object at 0x000001AB07E06850>\n",
      "c5 received payload: <mkd_blockchain.MKDBlockchain object at 0x000001AB07E06850>\n",
      "c6 received payload: <mkd_blockchain.MKDBlockchain object at 0x000001AB07E06850>\n",
      "c7 received payload: <mkd_blockchain.MKDBlockchain object at 0x000001AB07E06850>\n",
      "c8 received payload: <mkd_blockchain.MKDBlockchain object at 0x000001AB07E06850>\n",
      "c9 received payload: <mkd_blockchain.MKDBlockchain object at 0x000001AB07E06850>\n",
      "c10 received payload: <mkd_blockchain.MKDBlockchain object at 0x000001AB07E06850>\n",
      "time to complete broadcast to 10 nodes: 0.0\n"
     ]
    }
   ],
   "source": [
    "\"\"\"Initialize Nodes with Genesis Block\"\"\"\n",
    "\n",
    "print('START')\n",
    "MAX_NODES = 9999\n",
    "num_nodes = 10\n",
    "forging_interval = 10  # Time interval.  10 units of time\n",
    "nodes = [] #list of all nodes\n",
    "blockchain_dimensions = 4\n",
    "genesis_node_id = int(num_nodes/2)\n",
    "\n",
    "#itterate through and initialize each node\n",
    "then = time.time()\n",
    "for i in range(num_nodes):\n",
    "    new_node = Node(i+1, 0)\n",
    "    #new_node.blockchain = mkd_blockchain\n",
    "    new_node.start_listener('c0')\n",
    "    nodes.append(new_node)\n",
    "now = time.time()-then\n",
    "print(f'block init time @ {num_nodes} nodes: {now}')\n",
    "\n",
    "\n",
    "genesis_forger = nodes[genesis_node_id-1].wallet.public_key_string()\n",
    "mkd_blockchain = MKDBlockchain(blockchain_dimensions, genesis_node_id, genesis_forger)\n",
    "\n",
    "\n",
    "publisher = nodes[genesis_node_id-1]\n",
    "\n",
    "start_broadcast = time.time()\n",
    "publisher.publish(mkd_blockchain)\n",
    "completed_broadcast = time.time() - start_broadcast\n",
    "print(f'time to complete broadcast to {num_nodes} nodes: {completed_broadcast}')\n"
   ],
   "metadata": {
    "collapsed": false,
    "pycharm": {
     "name": "#%%\n"
    }
   }
  },
  {
   "cell_type": "code",
   "execution_count": 3,
   "outputs": [
    {
     "name": "stdout",
     "output_type": "stream",
     "text": [
      "I am the forger: \n",
      "{'coordinates': [5, 0, 0, 1625949890.4405417], 'signature': '', 'parent_hash': '0', 'transactions': []}\n",
      "\n",
      "\n",
      "      Block([5, 0, 0, 1625949890.4405417], 0, []) \n",
      "\n",
      "                 Block([6, 417, 274, 1625949890.4535403], 6e91362c7b44463e64ebc9e2957d5c7b7eeaac29, []) \n",
      "\n",
      "I am the forger: \n",
      "{'coordinates': [5, 0, 0, 1625949890.4405417], 'signature': '', 'parent_hash': '0', 'transactions': []}\n",
      "\n",
      "\n",
      "      Block([5, 0, 0, 1625949890.4405417], 0, []) \n",
      "\n",
      "      Block([3, 596, 462, 1625949890.4645393], 6e91362c7b44463e64ebc9e2957d5c7b7eeaac29, []) Block([6, 417, 274, 1625949890.4535403], 6e91362c7b44463e64ebc9e2957d5c7b7eeaac29, []) \n",
      "\n",
      "I am the forger: \n",
      "{'coordinates': [6, 417, 274, 1625949890.4535403], 'signature': '4427c2bad1ccc7c827dc0db9af1e0066f2747878ba03c11526572734e77b943488c157a83cca88bfb269d569353f0469531769f2ff772884ccccbc48c8b7cde84480f2c979f757a13e9344c627dc474e61228c08bed07e7f2f90319428f8f62d8838570db7acd5504eb89c9b437b51e56e97389c882d7c746f82a228760ccfea2c084976958c92dc612a346f1c942c8d2c1e88ba3efc393c67ef8cd08cece8b23d1d85a33076a4974894a1f8d5117652f88f4075d396991b04af27d7e334c866b37394613193d6aabc7be09c2468bf9a9c87fe9be36de79da38821eed5184245b94498872c02fdadd99099169a54c5f9dfa605b1dcd234f2bdcb8857a97bea4e', 'parent_hash': '6e91362c7b44463e64ebc9e2957d5c7b7eeaac29', 'transactions': []}\n",
      "\n",
      "\n",
      "      Block([5, 0, 0, 1625949890.4405417], 0, []) \n",
      "\n",
      "      Block([3, 596, 462, 1625949890.4645393], 6e91362c7b44463e64ebc9e2957d5c7b7eeaac29, []) Block([6, 417, 274, 1625949890.4535403], 6e91362c7b44463e64ebc9e2957d5c7b7eeaac29, []) \n",
      "\n",
      "                                       Block([6, 702, 971, 1625949890.4745395], 476c12c23d982b380f27ebb02fa3c6928eb2de6d, []) \n",
      "\n",
      "I am the forger: \n",
      "{'coordinates': [3, 596, 462, 1625949890.4645393], 'signature': '440f22dff9fdf9ba1c0b95d305b0a70f3fd81663232a124bf46753559be06202e729554a5396359646b65662503fc4c4f063289e4ddc33affa7604cc6035082be0aa88754923fa7219ec138c626162e59d677d5b74d8e298db6fb7ed10bb77e2b1cc1e951495c03e7e816dbd7f686f0b444db738bb8d4fc1303d23fe4fe72d43ccef58d319714be911440cec48974dd88f3f42f6d546d6826005ffb04eec401d0edbc0cc64f4714195a2ff3292dea2344aa05540bc429cb0cec2af177a7a6bb9100d58d3a9b99034672165bf5230cac2e92dbc320d3420584f403f24b6095f63dccf93aab757ab758e1a453e2f866214bcf4e690956d93ef4604b53bef5cc45b', 'parent_hash': '6e91362c7b44463e64ebc9e2957d5c7b7eeaac29', 'transactions': []}\n",
      "\n",
      "\n",
      "      Block([5, 0, 0, 1625949890.4405417], 0, []) \n",
      "\n",
      "      Block([3, 596, 462, 1625949890.4645393], 6e91362c7b44463e64ebc9e2957d5c7b7eeaac29, []) Block([6, 417, 274, 1625949890.4535403], 6e91362c7b44463e64ebc9e2957d5c7b7eeaac29, []) \n",
      "\n",
      "      Block([3, 209, 878, 1625949890.485545], 28e67ee770864fc4232aa224415ac9b2b654604e, [])                       Block([6, 702, 971, 1625949890.4745395], 476c12c23d982b380f27ebb02fa3c6928eb2de6d, []) \n",
      "\n"
     ]
    }
   ],
   "source": [
    "\"\"\"Attempting to add a second block to the kdtree_blockchain\"\"\"\n",
    "\n",
    "attempt_node_id = 6\n",
    "attempt_node = nodes[attempt_node_id-1]\n",
    "\n",
    "attempt_node.test_forge()\n",
    "\n",
    "kdtree.visualize(attempt_node.blockchain.blocks)\n",
    "\n",
    "attempt_node_id = 3\n",
    "attempt_node = nodes[attempt_node_id-1]\n",
    "\n",
    "attempt_node.test_forge()\n",
    "\n",
    "kdtree.visualize(attempt_node.blockchain.blocks)\n",
    "\n",
    "attempt_node_id = 6\n",
    "attempt_node = nodes[attempt_node_id-1]\n",
    "\n",
    "attempt_node.test_forge()\n",
    "\n",
    "kdtree.visualize(attempt_node.blockchain.blocks)\n",
    "\n",
    "attempt_node_id = 3\n",
    "attempt_node = nodes[attempt_node_id-1]\n",
    "\n",
    "attempt_node.test_forge()\n",
    "\n",
    "kdtree.visualize(attempt_node.blockchain.blocks)"
   ],
   "metadata": {
    "collapsed": false,
    "pycharm": {
     "name": "#%%\n"
    }
   }
  },
  {
   "cell_type": "code",
   "execution_count": 4,
   "outputs": [
    {
     "name": "stdout",
     "output_type": "stream",
     "text": [
      "0\n",
      "1\n",
      "2\n",
      "3\n",
      "4\n",
      "5\n",
      "6\n",
      "7\n",
      "8\n",
      "9\n",
      "10\n"
     ]
    },
    {
     "ename": "IndexError",
     "evalue": "list index out of range",
     "output_type": "error",
     "traceback": [
      "\u001B[1;31m---------------------------------------------------------------------------\u001B[0m",
      "\u001B[1;31mIndexError\u001B[0m                                Traceback (most recent call last)",
      "\u001B[1;32m<ipython-input-4-9d6ede5d3a4e>\u001B[0m in \u001B[0;36m<module>\u001B[1;34m\u001B[0m\n\u001B[0;32m     10\u001B[0m         \u001B[0mprint\u001B[0m\u001B[1;33m(\u001B[0m\u001B[0mj\u001B[0m\u001B[1;33m)\u001B[0m\u001B[1;33m\u001B[0m\u001B[1;33m\u001B[0m\u001B[0m\n\u001B[0;32m     11\u001B[0m         \u001B[0mparts\u001B[0m \u001B[1;33m=\u001B[0m \u001B[0mline\u001B[0m\u001B[1;33m.\u001B[0m\u001B[0msplit\u001B[0m\u001B[1;33m(\u001B[0m\u001B[1;34m','\u001B[0m\u001B[1;33m)\u001B[0m\u001B[1;33m\u001B[0m\u001B[1;33m\u001B[0m\u001B[0m\n\u001B[1;32m---> 12\u001B[1;33m         \u001B[0mmoving_node\u001B[0m \u001B[1;33m=\u001B[0m \u001B[0mnodes\u001B[0m\u001B[1;33m[\u001B[0m\u001B[0mj\u001B[0m\u001B[1;33m]\u001B[0m\u001B[1;33m\u001B[0m\u001B[1;33m\u001B[0m\u001B[0m\n\u001B[0m\u001B[0;32m     13\u001B[0m \u001B[1;33m\u001B[0m\u001B[0m\n\u001B[0;32m     14\u001B[0m         \u001B[0mold_topic\u001B[0m \u001B[1;33m=\u001B[0m \u001B[1;34m'c'\u001B[0m\u001B[1;33m+\u001B[0m\u001B[0mstr\u001B[0m\u001B[1;33m(\u001B[0m\u001B[0mmoving_node\u001B[0m\u001B[1;33m.\u001B[0m\u001B[0mcluster_id\u001B[0m\u001B[1;33m)\u001B[0m\u001B[1;33m.\u001B[0m\u001B[0mstrip\u001B[0m\u001B[1;33m(\u001B[0m\u001B[1;33m)\u001B[0m\u001B[1;33m\u001B[0m\u001B[1;33m\u001B[0m\u001B[0m\n",
      "\u001B[1;31mIndexError\u001B[0m: list index out of range"
     ]
    }
   ],
   "source": [
    "#Opens the data set file and generates nodes based on the provided data.\n",
    "#file is comma delimited in the following format: time-nodeID-xcoor-ycoor-miner-region-prevregion\n",
    "then = time.time()\n",
    "with open('node_data.txt') as f:\n",
    "    lines = f.readlines() # list containing lines of file\n",
    "    i = 0\n",
    "\n",
    "    for line in lines:\n",
    "        j = i%80\n",
    "        print(j)\n",
    "        parts = line.split(',')\n",
    "        moving_node = nodes[j]\n",
    "\n",
    "        old_topic = 'c'+str(moving_node.cluster_id).strip()\n",
    "        new_topic = 'c' + str(parts[5]).strip()\n",
    "\n",
    "        moving_node.coords = [parts[2], parts[3]]\n",
    "\n",
    "        moving_node.cluster_id = parts[5]\n",
    "        moving_node.move_listener(old_topic, new_topic)\n",
    "\n",
    "        #merge right after movement\n",
    "\n",
    "        #variable that sends transaction if miner==1\n",
    "        if parts[4] == 1:\n",
    "            # initiate transaction, save it to pool and broadcast.\n",
    "            x=1\n",
    "\n",
    "        # if time to forge then forge and broadcast, needs to scan and perform all clusters\n",
    "            # if transaction pool not empty then forge and broadcast\n",
    "\n",
    "\n",
    "        # move_listener(node[i % num_nodes].node_listener, \"c\" + str(parts[6]).strip(), \"c\" + str(parts[5]).strip())\n",
    "\n",
    "        i += 1\n",
    "now = time.time() - then\n",
    "print(f'node movement time @ {num_nodes} nodes: {now}')"
   ],
   "metadata": {
    "collapsed": false,
    "pycharm": {
     "name": "#%%\n"
    }
   }
  }
 ],
 "metadata": {
  "kernelspec": {
   "name": "python3",
   "language": "python",
   "display_name": "Python 3"
  },
  "language_info": {
   "codemirror_mode": {
    "name": "ipython",
    "version": 2
   },
   "file_extension": ".py",
   "mimetype": "text/x-python",
   "name": "python",
   "nbconvert_exporter": "python",
   "pygments_lexer": "ipython2",
   "version": "2.7.6"
  }
 },
 "nbformat": 4,
 "nbformat_minor": 0
}