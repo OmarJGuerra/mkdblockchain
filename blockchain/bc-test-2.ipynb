{
 "cells": [
  {
   "cell_type": "code",
   "execution_count": 1,
   "metadata": {
    "collapsed": true
   },
   "outputs": [],
   "source": [
    "\"\"\"Import all the relevant libraries.\"\"\"\n",
    "\n",
    "from mkd_blockchain import MKDBlockchain\n",
    "from blockchain_utils import BlockchainUtils\n",
    "import block\n",
    "from pubsub import pub\n",
    "from node import Node\n",
    "from transaction import Transaction\n",
    "from transaction_pool import TransactionPool\n",
    "from wallet import Wallet\n",
    "from Crypto.PublicKey import RSA\n",
    "import pprint\n",
    "import random\n",
    "import time\n",
    "from mkdtree import kdtree"
   ]
  },
  {
   "cell_type": "code",
   "execution_count": 2,
   "outputs": [
    {
     "name": "stdout",
     "output_type": "stream",
     "text": [
      "START\n",
      "<mkd_blockchain.MKDBlockchain object at 0x000001447FBDEAC0>\n",
      "c1 received payload: <mkd_blockchain.MKDBlockchain object at 0x000001447FBDEAC0>\n",
      "type mkdblockchain <class 'mkd_blockchain.MKDBlockchain'>\n",
      "<mkd_blockchain.MKDBlockchain object at 0x000001447FBDEAC0>\n",
      "1\n",
      "<KDNode - Block([5, 0, 0, 1625692237.841424], [])>\n",
      "None\n",
      "c2 received payload: <mkd_blockchain.MKDBlockchain object at 0x000001447FBDEAC0>\n",
      "type mkdblockchain <class 'mkd_blockchain.MKDBlockchain'>\n",
      "<mkd_blockchain.MKDBlockchain object at 0x000001447FBDEAC0>\n",
      "1\n",
      "<KDNode - Block([5, 0, 0, 1625692237.841424], [])>\n",
      "None\n",
      "c3 received payload: <mkd_blockchain.MKDBlockchain object at 0x000001447FBDEAC0>\n",
      "type mkdblockchain <class 'mkd_blockchain.MKDBlockchain'>\n",
      "<mkd_blockchain.MKDBlockchain object at 0x000001447FBDEAC0>\n",
      "1\n",
      "<KDNode - Block([5, 0, 0, 1625692237.841424], [])>\n",
      "None\n",
      "c4 received payload: <mkd_blockchain.MKDBlockchain object at 0x000001447FBDEAC0>\n",
      "type mkdblockchain <class 'mkd_blockchain.MKDBlockchain'>\n",
      "<mkd_blockchain.MKDBlockchain object at 0x000001447FBDEAC0>\n",
      "1\n",
      "<KDNode - Block([5, 0, 0, 1625692237.841424], [])>\n",
      "None\n",
      "c5 received payload: <mkd_blockchain.MKDBlockchain object at 0x000001447FBDEAC0>\n",
      "type mkdblockchain <class 'mkd_blockchain.MKDBlockchain'>\n",
      "<mkd_blockchain.MKDBlockchain object at 0x000001447FBDEAC0>\n",
      "1\n",
      "<KDNode - Block([5, 0, 0, 1625692237.841424], [])>\n",
      "None\n",
      "c6 received payload: <mkd_blockchain.MKDBlockchain object at 0x000001447FBDEAC0>\n",
      "type mkdblockchain <class 'mkd_blockchain.MKDBlockchain'>\n",
      "<mkd_blockchain.MKDBlockchain object at 0x000001447FBDEAC0>\n",
      "1\n",
      "<KDNode - Block([5, 0, 0, 1625692237.841424], [])>\n",
      "None\n",
      "c7 received payload: <mkd_blockchain.MKDBlockchain object at 0x000001447FBDEAC0>\n",
      "type mkdblockchain <class 'mkd_blockchain.MKDBlockchain'>\n",
      "<mkd_blockchain.MKDBlockchain object at 0x000001447FBDEAC0>\n",
      "1\n",
      "<KDNode - Block([5, 0, 0, 1625692237.841424], [])>\n",
      "None\n",
      "c8 received payload: <mkd_blockchain.MKDBlockchain object at 0x000001447FBDEAC0>\n",
      "type mkdblockchain <class 'mkd_blockchain.MKDBlockchain'>\n",
      "<mkd_blockchain.MKDBlockchain object at 0x000001447FBDEAC0>\n",
      "1\n",
      "<KDNode - Block([5, 0, 0, 1625692237.841424], [])>\n",
      "None\n",
      "c9 received payload: <mkd_blockchain.MKDBlockchain object at 0x000001447FBDEAC0>\n",
      "type mkdblockchain <class 'mkd_blockchain.MKDBlockchain'>\n",
      "<mkd_blockchain.MKDBlockchain object at 0x000001447FBDEAC0>\n",
      "1\n",
      "<KDNode - Block([5, 0, 0, 1625692237.841424], [])>\n",
      "None\n",
      "c10 received payload: <mkd_blockchain.MKDBlockchain object at 0x000001447FBDEAC0>\n",
      "type mkdblockchain <class 'mkd_blockchain.MKDBlockchain'>\n",
      "<mkd_blockchain.MKDBlockchain object at 0x000001447FBDEAC0>\n",
      "1\n",
      "<KDNode - Block([5, 0, 0, 1625692237.841424], [])>\n",
      "None\n",
      "[<node.Node object at 0x00000144003BBCA0>, <node.Node object at 0x00000144003C7130>, <node.Node object at 0x00000144003D8490>, <node.Node object at 0x00000144003D88B0>, <node.Node object at 0x00000144003D8B80>, <node.Node object at 0x00000144003DF1F0>, <node.Node object at 0x00000144003DF850>, <node.Node object at 0x00000144003DFAF0>, <node.Node object at 0x00000144003E2070>, <node.Node object at 0x00000144003E2520>]\n"
     ]
    }
   ],
   "source": [
    "\"\"\"Initialize Nodes with Genesis Block\"\"\"\n",
    "\n",
    "print('START')\n",
    "MAX_NODES = 9999\n",
    "num_nodes = 10\n",
    "\n",
    "blockchain_dimensions = 4\n",
    "genesis_node_id = 5\n",
    "\n",
    "mkd_blockchain = MKDBlockchain(blockchain_dimensions, genesis_node_id)\n",
    "nodes = [] #list of all nodes\n",
    "\n",
    "#itterate through and initialize each node with the genesis block\n",
    "for i in range(num_nodes):\n",
    "    new_node = Node(i+1, 0)\n",
    "    #new_node.blockchain = mkd_blockchain\n",
    "    new_node.start_listener('c0')\n",
    "    nodes.append(new_node)\n",
    "\n",
    "publisher = nodes[genesis_node_id-1]\n",
    "print(mkd_blockchain)\n",
    "publisher.publish(mkd_blockchain)\n",
    "\n",
    "print(nodes)\n"
   ],
   "metadata": {
    "collapsed": false,
    "pycharm": {
     "name": "#%%\n"
    }
   }
  },
  {
   "cell_type": "code",
   "execution_count": 3,
   "outputs": [
    {
     "ename": "AttributeError",
     "evalue": "'NoneType' object has no attribute 'blocks'",
     "output_type": "error",
     "traceback": [
      "\u001B[1;31m---------------------------------------------------------------------------\u001B[0m",
      "\u001B[1;31mAttributeError\u001B[0m                            Traceback (most recent call last)",
      "\u001B[1;32m<ipython-input-3-ae92931305df>\u001B[0m in \u001B[0;36m<module>\u001B[1;34m\u001B[0m\n\u001B[0;32m      1\u001B[0m \u001B[0msample\u001B[0m \u001B[1;33m=\u001B[0m \u001B[0mnodes\u001B[0m\u001B[1;33m[\u001B[0m\u001B[1;36m1\u001B[0m\u001B[1;33m]\u001B[0m\u001B[1;33m\u001B[0m\u001B[1;33m\u001B[0m\u001B[0m\n\u001B[0;32m      2\u001B[0m \u001B[0msample2\u001B[0m \u001B[1;33m=\u001B[0m \u001B[0mnodes\u001B[0m\u001B[1;33m[\u001B[0m\u001B[1;36m2\u001B[0m\u001B[1;33m]\u001B[0m\u001B[1;33m\u001B[0m\u001B[1;33m\u001B[0m\u001B[0m\n\u001B[1;32m----> 3\u001B[1;33m \u001B[0mprint\u001B[0m\u001B[1;33m(\u001B[0m\u001B[0msample\u001B[0m\u001B[1;33m.\u001B[0m\u001B[0mblockchain\u001B[0m\u001B[1;33m.\u001B[0m\u001B[0mblocks\u001B[0m\u001B[1;33m)\u001B[0m\u001B[1;33m\u001B[0m\u001B[1;33m\u001B[0m\u001B[0m\n\u001B[0m\u001B[0;32m      4\u001B[0m \u001B[0mprint\u001B[0m\u001B[1;33m(\u001B[0m\u001B[0msample2\u001B[0m\u001B[1;33m.\u001B[0m\u001B[0mblockchain\u001B[0m\u001B[1;33m.\u001B[0m\u001B[0mblocks\u001B[0m\u001B[1;33m)\u001B[0m\u001B[1;33m\u001B[0m\u001B[1;33m\u001B[0m\u001B[0m\n",
      "\u001B[1;31mAttributeError\u001B[0m: 'NoneType' object has no attribute 'blocks'"
     ]
    }
   ],
   "source": [
    "sample = nodes[1]\n",
    "sample2 = nodes[2]\n",
    "print(sample.blockchain.blocks)\n",
    "print(sample2.blockchain.blocks)"
   ],
   "metadata": {
    "collapsed": false,
    "pycharm": {
     "name": "#%%\n"
    }
   }
  },
  {
   "cell_type": "code",
   "execution_count": null,
   "outputs": [],
   "source": [
    "#Opens the data set file and generates nodes based on the provided data.\n",
    "#file is comma delimited in the following format: time-nodeID-xcoor-ycoor-miner-region-prevregion\n",
    "with open('node_data.txt') as f:\n",
    "    lines = f.readlines() # list containing lines of file\n",
    "    i = 0\n",
    "\n",
    "    for line in lines:\n",
    "        j = i%80\n",
    "        parts = line.split(',')\n",
    "\n",
    "        node = nodes[j]\n",
    "        node.cluster_id = parts[5]\n",
    "        node.startListener('c' + str(parts[5]).strip())\n",
    "\n",
    "\n",
    "\n",
    "        #move_listener(node[i % num_nodes].node_listener, \"c\" + str(parts[6]).strip(), \"c\" + str(parts[5]).strip())\n",
    "        i += 1"
   ],
   "metadata": {
    "collapsed": false,
    "pycharm": {
     "name": "#%%\n"
    }
   }
  }
 ],
 "metadata": {
  "kernelspec": {
   "name": "python3",
   "language": "python",
   "display_name": "Python 3"
  },
  "language_info": {
   "codemirror_mode": {
    "name": "ipython",
    "version": 2
   },
   "file_extension": ".py",
   "mimetype": "text/x-python",
   "name": "python",
   "nbconvert_exporter": "python",
   "pygments_lexer": "ipython2",
   "version": "2.7.6"
  }
 },
 "nbformat": 4,
 "nbformat_minor": 0
}