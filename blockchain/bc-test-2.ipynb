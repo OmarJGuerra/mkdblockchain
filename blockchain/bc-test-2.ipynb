{
 "cells": [
  {
   "cell_type": "code",
   "execution_count": 5,
   "metadata": {
    "collapsed": true
   },
   "outputs": [],
   "source": [
    "\"\"\"Import all the relevant libraries.\"\"\"\n",
    "\n",
    "from mkd_blockchain import MKDBlockchain\n",
    "from blockchain_utils import BlockchainUtils\n",
    "import block\n",
    "from pubsub import pub\n",
    "from node import Node\n",
    "from transaction import Transaction\n",
    "from transaction_pool import TransactionPool\n",
    "from wallet import Wallet\n",
    "from Crypto.PublicKey import RSA\n",
    "import pprint\n",
    "import random\n",
    "import time\n",
    "from mkdtree import kdtree\n"
   ]
  },
  {
   "cell_type": "code",
   "execution_count": 6,
   "outputs": [
    {
     "name": "stdout",
     "output_type": "stream",
     "text": [
      "START\n",
      "block init time @ 10 nodes: 28.63659405708313\n",
      "c1 received payload: <mkd_blockchain.MKDBlockchain object at 0x000001D263F5B310>\n",
      "c2 received payload: <mkd_blockchain.MKDBlockchain object at 0x000001D263F5B310>\n",
      "c3 received payload: <mkd_blockchain.MKDBlockchain object at 0x000001D263F5B310>\n",
      "c4 received payload: <mkd_blockchain.MKDBlockchain object at 0x000001D263F5B310>\n",
      "c5 received payload: <mkd_blockchain.MKDBlockchain object at 0x000001D263F5B310>\n",
      "c6 received payload: <mkd_blockchain.MKDBlockchain object at 0x000001D263F5B310>\n",
      "c7 received payload: <mkd_blockchain.MKDBlockchain object at 0x000001D263F5B310>\n",
      "c8 received payload: <mkd_blockchain.MKDBlockchain object at 0x000001D263F5B310>\n",
      "c9 received payload: <mkd_blockchain.MKDBlockchain object at 0x000001D263F5B310>\n",
      "c10 received payload: <mkd_blockchain.MKDBlockchain object at 0x000001D263F5B310>\n",
      "time to complete broadcast to 10 nodes: 0.00099945068359375\n"
     ]
    }
   ],
   "source": [
    "\"\"\"Initialize Nodes with Genesis Block\"\"\"\n",
    "\n",
    "print('START')\n",
    "MAX_NODES = 9999\n",
    "num_nodes = 10\n",
    "forging_interval = 10  # Time interval.  10 units of time\n",
    "nodes = [] #list of all nodes\n",
    "blockchain_dimensions = 4\n",
    "genesis_node_id = int(num_nodes/2)\n",
    "\n",
    "#itterate through and initialize each node\n",
    "then = time.time()\n",
    "for i in range(num_nodes):\n",
    "    new_node = Node(i+1, 0)\n",
    "    #new_node.blockchain = mkd_blockchain\n",
    "    new_node.start_listener('c0')\n",
    "    nodes.append(new_node)\n",
    "now = time.time()-then\n",
    "print(f'block init time @ {num_nodes} nodes: {now}')\n",
    "\n",
    "\n",
    "genesis_forger = nodes[genesis_node_id-1].wallet.public_key_string()\n",
    "mkd_blockchain = MKDBlockchain(blockchain_dimensions, genesis_node_id, genesis_forger)\n",
    "\n",
    "\n",
    "publisher = nodes[genesis_node_id-1]\n",
    "\n",
    "start_broadcast = time.time()\n",
    "publisher.publish(mkd_blockchain)\n",
    "completed_broadcast = time.time() - start_broadcast\n",
    "print(f'time to complete broadcast to {num_nodes} nodes: {completed_broadcast}')\n"
   ],
   "metadata": {
    "collapsed": false,
    "pycharm": {
     "name": "#%%\n"
    }
   }
  },
  {
   "cell_type": "code",
   "execution_count": 7,
   "outputs": [
    {
     "name": "stdout",
     "output_type": "stream",
     "text": [
      "I am the forger: \n",
      "\n",
      "\n",
      "      Block([5, 0, 0, 1625956254.2308135], 0, []) \n",
      "\n",
      "                 Block([6, 637, 270, 1625956254.2428148], d6690e0a7792cf4f866ba03dacb31630c250ca3c, []) \n",
      "\n",
      "I am the forger: \n",
      "\n",
      "\n",
      "      Block([5, 0, 0, 1625956254.2308135], 0, []) \n",
      "\n",
      "      Block([3, 745, 804, 1625956254.253814], d6690e0a7792cf4f866ba03dacb31630c250ca3c, []) Block([6, 637, 270, 1625956254.2428148], d6690e0a7792cf4f866ba03dacb31630c250ca3c, []) \n",
      "\n",
      "I am the forger: \n",
      "\n",
      "\n",
      "      Block([5, 0, 0, 1625956254.2308135], 0, []) \n",
      "\n",
      "      Block([3, 745, 804, 1625956254.253814], d6690e0a7792cf4f866ba03dacb31630c250ca3c, []) Block([6, 637, 270, 1625956254.2428148], d6690e0a7792cf4f866ba03dacb31630c250ca3c, []) \n",
      "\n",
      "                                       Block([6, 733, 140, 1625956254.2643287], 1938673c1066e814dd8b8529013e323c19895141, []) \n",
      "\n",
      "I am the forger: \n",
      "\n",
      "\n",
      "      Block([5, 0, 0, 1625956254.2308135], 0, []) \n",
      "\n",
      "      Block([3, 745, 804, 1625956254.253814], d6690e0a7792cf4f866ba03dacb31630c250ca3c, []) Block([6, 637, 270, 1625956254.2428148], d6690e0a7792cf4f866ba03dacb31630c250ca3c, []) \n",
      "\n",
      "                 Block([3, 880, 513, 1625956254.2768216], 23cc24f8e2ee97eba04dccc9c455d44a89c12229, [])            Block([6, 733, 140, 1625956254.2643287], 1938673c1066e814dd8b8529013e323c19895141, []) \n",
      "\n"
     ]
    }
   ],
   "source": [
    "\"\"\"Attempting to add a second block to the kdtree_blockchain\"\"\"\n",
    "\n",
    "attempt_node_id = 6\n",
    "attempt_node = nodes[attempt_node_id-1]\n",
    "\n",
    "attempt_node.test_forge()\n",
    "\n",
    "kdtree.visualize(attempt_node.blockchain.blocks)\n",
    "\n",
    "attempt_node_id = 3\n",
    "attempt_node = nodes[attempt_node_id-1]\n",
    "\n",
    "attempt_node.test_forge()\n",
    "\n",
    "kdtree.visualize(attempt_node.blockchain.blocks)\n",
    "\n",
    "attempt_node_id = 6\n",
    "attempt_node = nodes[attempt_node_id-1]\n",
    "\n",
    "attempt_node.test_forge()\n",
    "\n",
    "kdtree.visualize(attempt_node.blockchain.blocks)\n",
    "\n",
    "attempt_node_id = 3\n",
    "attempt_node = nodes[attempt_node_id-1]\n",
    "\n",
    "attempt_node.test_forge()\n",
    "\n",
    "kdtree.visualize(attempt_node.blockchain.blocks)"
   ],
   "metadata": {
    "collapsed": false,
    "pycharm": {
     "name": "#%%\n"
    }
   }
  },
  {
   "cell_type": "code",
   "execution_count": 8,
   "outputs": [
    {
     "name": "stdout",
     "output_type": "stream",
     "text": [
      "0\n",
      "1\n",
      "2\n",
      "3\n",
      "4\n",
      "5\n",
      "6\n",
      "7\n",
      "8\n",
      "9\n",
      "10\n"
     ]
    },
    {
     "ename": "IndexError",
     "evalue": "list index out of range",
     "output_type": "error",
     "traceback": [
      "\u001B[1;31m---------------------------------------------------------------------------\u001B[0m",
      "\u001B[1;31mIndexError\u001B[0m                                Traceback (most recent call last)",
      "\u001B[1;32m<ipython-input-8-9d6ede5d3a4e>\u001B[0m in \u001B[0;36m<module>\u001B[1;34m\u001B[0m\n\u001B[0;32m     10\u001B[0m         \u001B[0mprint\u001B[0m\u001B[1;33m(\u001B[0m\u001B[0mj\u001B[0m\u001B[1;33m)\u001B[0m\u001B[1;33m\u001B[0m\u001B[1;33m\u001B[0m\u001B[0m\n\u001B[0;32m     11\u001B[0m         \u001B[0mparts\u001B[0m \u001B[1;33m=\u001B[0m \u001B[0mline\u001B[0m\u001B[1;33m.\u001B[0m\u001B[0msplit\u001B[0m\u001B[1;33m(\u001B[0m\u001B[1;34m','\u001B[0m\u001B[1;33m)\u001B[0m\u001B[1;33m\u001B[0m\u001B[1;33m\u001B[0m\u001B[0m\n\u001B[1;32m---> 12\u001B[1;33m         \u001B[0mmoving_node\u001B[0m \u001B[1;33m=\u001B[0m \u001B[0mnodes\u001B[0m\u001B[1;33m[\u001B[0m\u001B[0mj\u001B[0m\u001B[1;33m]\u001B[0m\u001B[1;33m\u001B[0m\u001B[1;33m\u001B[0m\u001B[0m\n\u001B[0m\u001B[0;32m     13\u001B[0m \u001B[1;33m\u001B[0m\u001B[0m\n\u001B[0;32m     14\u001B[0m         \u001B[0mold_topic\u001B[0m \u001B[1;33m=\u001B[0m \u001B[1;34m'c'\u001B[0m\u001B[1;33m+\u001B[0m\u001B[0mstr\u001B[0m\u001B[1;33m(\u001B[0m\u001B[0mmoving_node\u001B[0m\u001B[1;33m.\u001B[0m\u001B[0mcluster_id\u001B[0m\u001B[1;33m)\u001B[0m\u001B[1;33m.\u001B[0m\u001B[0mstrip\u001B[0m\u001B[1;33m(\u001B[0m\u001B[1;33m)\u001B[0m\u001B[1;33m\u001B[0m\u001B[1;33m\u001B[0m\u001B[0m\n",
      "\u001B[1;31mIndexError\u001B[0m: list index out of range"
     ]
    }
   ],
   "source": [
    "#Opens the data set file and generates nodes based on the provided data.\n",
    "#file is comma delimited in the following format: time-nodeID-xcoor-ycoor-miner-region-prevregion\n",
    "then = time.time()\n",
    "with open('node_data.txt') as f:\n",
    "    lines = f.readlines() # list containing lines of file\n",
    "    i = 0\n",
    "\n",
    "    for line in lines:\n",
    "        j = i%80\n",
    "        print(j)\n",
    "        parts = line.split(',')\n",
    "        moving_node = nodes[j]\n",
    "\n",
    "        old_topic = 'c'+str(moving_node.cluster_id).strip()\n",
    "        new_topic = 'c' + str(parts[5]).strip()\n",
    "\n",
    "        moving_node.coords = [parts[2], parts[3]]\n",
    "\n",
    "        moving_node.cluster_id = parts[5]\n",
    "        moving_node.move_listener(old_topic, new_topic)\n",
    "\n",
    "        #merge right after movement\n",
    "\n",
    "        #variable that sends transaction if miner==1\n",
    "        if parts[4] == 1:\n",
    "            # initiate transaction, save it to pool and broadcast.\n",
    "            x=1\n",
    "\n",
    "        # if time to forge then forge and broadcast, needs to scan and perform all clusters\n",
    "            # if transaction pool not empty then forge and broadcast\n",
    "\n",
    "\n",
    "        # move_listener(node[i % num_nodes].node_listener, \"c\" + str(parts[6]).strip(), \"c\" + str(parts[5]).strip())\n",
    "\n",
    "        i += 1\n",
    "now = time.time() - then\n",
    "print(f'node movement time @ {num_nodes} nodes: {now}')"
   ],
   "metadata": {
    "collapsed": false,
    "pycharm": {
     "name": "#%%\n"
    }
   }
  }
 ],
 "metadata": {
  "kernelspec": {
   "name": "python3",
   "language": "python",
   "display_name": "Python 3"
  },
  "language_info": {
   "codemirror_mode": {
    "name": "ipython",
    "version": 2
   },
   "file_extension": ".py",
   "mimetype": "text/x-python",
   "name": "python",
   "nbconvert_exporter": "python",
   "pygments_lexer": "ipython2",
   "version": "2.7.6"
  }
 },
 "nbformat": 4,
 "nbformat_minor": 0
}