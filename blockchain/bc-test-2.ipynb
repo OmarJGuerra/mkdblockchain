{
 "cells": [
  {
   "cell_type": "code",
   "execution_count": 1,
   "metadata": {
    "collapsed": true
   },
   "outputs": [],
   "source": [
    "\"\"\"Import all the relevant libraries.\"\"\"\n",
    "\n",
    "from mkd_blockchain import MKDBlockchain\n",
    "from blockchain_utils import BlockchainUtils\n",
    "import block\n",
    "from pubsub import pub\n",
    "from node import Node\n",
    "from transaction import Transaction\n",
    "from transaction_pool import TransactionPool\n",
    "from wallet import Wallet\n",
    "from Crypto.PublicKey import RSA\n",
    "import pprint\n",
    "import random\n",
    "import time\n",
    "from mkdtree import kdtree\n"
   ]
  },
  {
   "cell_type": "code",
   "execution_count": 2,
   "outputs": [
    {
     "name": "stdout",
     "output_type": "stream",
     "text": [
      "START\n",
      "block init time @ 10 nodes: 30.729254961013794\n",
      "c1 received payload: <mkd_blockchain.MKDBlockchain object at 0x00000255F2DD6160>\n",
      "c2 received payload: <mkd_blockchain.MKDBlockchain object at 0x00000255F2DD6160>\n",
      "c3 received payload: <mkd_blockchain.MKDBlockchain object at 0x00000255F2DD6160>\n",
      "c4 received payload: <mkd_blockchain.MKDBlockchain object at 0x00000255F2DD6160>\n",
      "c5 received payload: <mkd_blockchain.MKDBlockchain object at 0x00000255F2DD6160>\n",
      "c6 received payload: <mkd_blockchain.MKDBlockchain object at 0x00000255F2DD6160>\n",
      "c7 received payload: <mkd_blockchain.MKDBlockchain object at 0x00000255F2DD6160>\n",
      "c8 received payload: <mkd_blockchain.MKDBlockchain object at 0x00000255F2DD6160>\n",
      "c9 received payload: <mkd_blockchain.MKDBlockchain object at 0x00000255F2DD6160>\n",
      "c10 received payload: <mkd_blockchain.MKDBlockchain object at 0x00000255F2DD6160>\n",
      "time to complete broadcast to 10 nodes: 0.0010259151458740234\n"
     ]
    }
   ],
   "source": [
    "\"\"\"Initialize Nodes with Genesis Block\"\"\"\n",
    "\n",
    "print('START')\n",
    "MAX_NODES = 9999\n",
    "num_nodes = 10\n",
    "forging_interval = 10  # Time interval.  10 units of time\n",
    "nodes = [] #list of all nodes\n",
    "blockchain_dimensions = 4\n",
    "genesis_node_id = int(num_nodes/2)\n",
    "\n",
    "#itterate through and initialize each node\n",
    "then = time.time()\n",
    "for i in range(num_nodes):\n",
    "    new_node = Node(i+1, 0)\n",
    "    #new_node.blockchain = mkd_blockchain\n",
    "    new_node.start_listener('c0')\n",
    "    nodes.append(new_node)\n",
    "now = time.time()-then\n",
    "print(f'block init time @ {num_nodes} nodes: {now}')\n",
    "\n",
    "\n",
    "genesis_forger = nodes[genesis_node_id-1].wallet.public_key_string()\n",
    "mkd_blockchain = MKDBlockchain(blockchain_dimensions, genesis_node_id, genesis_forger)\n",
    "\n",
    "\n",
    "publisher = nodes[genesis_node_id-1]\n",
    "\n",
    "start_broadcast = time.time()\n",
    "publisher.publish(mkd_blockchain)\n",
    "completed_broadcast = time.time() - start_broadcast\n",
    "print(f'time to complete broadcast to {num_nodes} nodes: {completed_broadcast}')\n",
    "\n"
   ],
   "metadata": {
    "collapsed": false,
    "pycharm": {
     "name": "#%%\n"
    }
   }
  },
  {
   "cell_type": "code",
   "execution_count": 6,
   "outputs": [
    {
     "name": "stdout",
     "output_type": "stream",
     "text": [
      "<node.Node object at 0x00000255F2DC24F0>\n",
      "<KDNode - Block([5, 0, 0, 1625774234.0956943], [])>\n",
      "<mkd_blockchain.MKDBlockchain object at 0x00000255F2DD6160>\n",
      "\n",
      "\n",
      "      Block([5, 0, 0, 1625774234.0956943], []) \n",
      "\n"
     ]
    },
    {
     "ename": "TypeError",
     "evalue": "__hash__ method should return an integer",
     "output_type": "error",
     "traceback": [
      "\u001B[1;31m---------------------------------------------------------------------------\u001B[0m",
      "\u001B[1;31mTypeError\u001B[0m                                 Traceback (most recent call last)",
      "\u001B[1;32m<ipython-input-6-ee6e6f170414>\u001B[0m in \u001B[0;36m<module>\u001B[1;34m\u001B[0m\n\u001B[0;32m     11\u001B[0m \u001B[1;31m# need to reference the genesis block in mkdtree_blockchain and how to reference the parent of any node\u001B[0m\u001B[1;33m\u001B[0m\u001B[1;33m\u001B[0m\u001B[1;33m\u001B[0m\u001B[0m\n\u001B[0;32m     12\u001B[0m \u001B[1;33m\u001B[0m\u001B[0m\n\u001B[1;32m---> 13\u001B[1;33m \u001B[0mprint\u001B[0m\u001B[1;33m(\u001B[0m\u001B[0mhash\u001B[0m\u001B[1;33m(\u001B[0m\u001B[0msample\u001B[0m\u001B[1;33m.\u001B[0m\u001B[0mblockchain\u001B[0m\u001B[1;33m.\u001B[0m\u001B[0mblocks\u001B[0m\u001B[1;33m)\u001B[0m\u001B[1;33m)\u001B[0m\u001B[1;33m\u001B[0m\u001B[1;33m\u001B[0m\u001B[0m\n\u001B[0m",
      "\u001B[1;31mTypeError\u001B[0m: __hash__ method should return an integer"
     ]
    }
   ],
   "source": [
    "\"\"\"check to confirm that the nodes have initialized the genesis block\"\"\"\n",
    "\n",
    "sample = nodes[1]\n",
    "sample2 = nodes[2]\n",
    "print(sample)\n",
    "print(sample.blockchain.blocks)\n",
    "print(sample2.blockchain)\n",
    "kdtree.visualize(sample.blockchain.blocks)\n",
    "\n",
    "# BlockchainUtils.hash(blockchain.blocks[-1].payload()).hexdigest()\n",
    "# need to reference the genesis block in mkdtree_blockchain and how to reference the parent of any node\n",
    "\n",
    "print(hash(sample.blockchain.blocks))"
   ],
   "metadata": {
    "collapsed": false,
    "pycharm": {
     "name": "#%%\n"
    }
   }
  },
  {
   "cell_type": "code",
   "execution_count": 4,
   "outputs": [
    {
     "ename": "IndentationError",
     "evalue": "expected an indented block (<ipython-input-4-cbe8d25a8ebe>, line 35)",
     "output_type": "error",
     "traceback": [
      "\u001B[1;36m  File \u001B[1;32m\"<ipython-input-4-cbe8d25a8ebe>\"\u001B[1;36m, line \u001B[1;32m35\u001B[0m\n\u001B[1;33m    i += 1\u001B[0m\n\u001B[1;37m    ^\u001B[0m\n\u001B[1;31mIndentationError\u001B[0m\u001B[1;31m:\u001B[0m expected an indented block\n"
     ]
    }
   ],
   "source": [
    "#Opens the data set file and generates nodes based on the provided data.\n",
    "#file is comma delimited in the following format: time-nodeID-xcoor-ycoor-miner-region-prevregion\n",
    "then = time.time()\n",
    "with open('node_data.txt') as f:\n",
    "    lines = f.readlines() # list containing lines of file\n",
    "    i = 0\n",
    "\n",
    "    for line in lines:\n",
    "        j = i%80\n",
    "        print(j)\n",
    "        parts = line.split(',')\n",
    "        moving_node = nodes[j]\n",
    "\n",
    "        old_topic = 'c'+str(moving_node.cluster_id).strip()\n",
    "        new_topic = 'c' + str(parts[5]).strip()\n",
    "\n",
    "        moving_node.coords = [parts[2], parts[3]]\n",
    "\n",
    "        moving_node.cluster_id = parts[5]\n",
    "        moving_node.move_listener(old_topic, new_topic)\n",
    "\n",
    "        #merge right after movement\n",
    "\n",
    "        #variable that sends transaction if miner==1\n",
    "        if parts[4] == 1:\n",
    "            # initiate transaction, save it to pool and broadcast.\n",
    "\n",
    "\n",
    "        # if time to forge then forge and broadcast, needs to scan and perform all clusters\n",
    "            # if transaction pool not empty then forge and broadcast\n",
    "\n",
    "\n",
    "        # move_listener(node[i % num_nodes].node_listener, \"c\" + str(parts[6]).strip(), \"c\" + str(parts[5]).strip())\n",
    "\n",
    "        i += 1\n",
    "now = time.time() - then\n",
    "print(f'node movement time @ {num_nodes} nodes: {now}')"
   ],
   "metadata": {
    "collapsed": false,
    "pycharm": {
     "name": "#%%\n"
    }
   }
  }
 ],
 "metadata": {
  "kernelspec": {
   "name": "python3",
   "language": "python",
   "display_name": "Python 3"
  },
  "language_info": {
   "codemirror_mode": {
    "name": "ipython",
    "version": 2
   },
   "file_extension": ".py",
   "mimetype": "text/x-python",
   "name": "python",
   "nbconvert_exporter": "python",
   "pygments_lexer": "ipython2",
   "version": "2.7.6"
  }
 },
 "nbformat": 4,
 "nbformat_minor": 0
}