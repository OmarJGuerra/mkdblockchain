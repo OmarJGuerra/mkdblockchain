{
 "cells": [
  {
   "cell_type": "code",
   "execution_count": 2,
   "metadata": {
    "collapsed": true
   },
   "outputs": [],
   "source": [
    "\"\"\"Import all the relevant libraries.\"\"\"\n",
    "\n",
    "from mkd_blockchain import MKDBlockchain\n",
    "from blockchain_utils import BlockchainUtils\n",
    "import block\n",
    "from pubsub import pub\n",
    "from node import Node\n",
    "from transaction import Transaction\n",
    "from sensor_transaction import SensorTransaction\n",
    "from transaction_pool import TransactionPool\n",
    "from wallet import Wallet\n",
    "from Crypto.PublicKey import RSA\n",
    "import pprint\n",
    "import random\n",
    "import time\n",
    "from mkdtree import kdtree\n"
   ]
  },
  {
   "cell_type": "code",
   "execution_count": 6,
   "outputs": [
    {
     "name": "stdout",
     "output_type": "stream",
     "text": [
      "START\n",
      "block init time @ 80 nodes: 151.46549224853516\n"
     ]
    },
    {
     "ename": "AttributeError",
     "evalue": "'NoneType' object has no attribute 'blocks'",
     "output_type": "error",
     "traceback": [
      "\u001B[1;31m---------------------------------------------------------------------------\u001B[0m",
      "\u001B[1;31mAttributeError\u001B[0m                            Traceback (most recent call last)",
      "\u001B[1;32m<ipython-input-6-f483b25dfa2c>\u001B[0m in \u001B[0;36m<module>\u001B[1;34m\u001B[0m\n\u001B[0;32m     27\u001B[0m \u001B[1;33m\u001B[0m\u001B[0m\n\u001B[0;32m     28\u001B[0m \u001B[0mstart_broadcast\u001B[0m \u001B[1;33m=\u001B[0m \u001B[0mtime\u001B[0m\u001B[1;33m.\u001B[0m\u001B[0mtime\u001B[0m\u001B[1;33m(\u001B[0m\u001B[1;33m)\u001B[0m\u001B[1;33m\u001B[0m\u001B[1;33m\u001B[0m\u001B[0m\n\u001B[1;32m---> 29\u001B[1;33m \u001B[0mprint\u001B[0m\u001B[1;33m(\u001B[0m\u001B[0mnodes\u001B[0m\u001B[1;33m[\u001B[0m\u001B[1;36m4\u001B[0m\u001B[1;33m]\u001B[0m\u001B[1;33m.\u001B[0m\u001B[0mblockchain\u001B[0m\u001B[1;33m.\u001B[0m\u001B[0mblocks\u001B[0m\u001B[1;33m)\u001B[0m\u001B[1;33m\u001B[0m\u001B[1;33m\u001B[0m\u001B[0m\n\u001B[0m\u001B[0;32m     30\u001B[0m \u001B[0mpublisher\u001B[0m\u001B[1;33m.\u001B[0m\u001B[0mpublish\u001B[0m\u001B[1;33m(\u001B[0m\u001B[0mmkd_blockchain\u001B[0m\u001B[1;33m)\u001B[0m\u001B[1;33m\u001B[0m\u001B[1;33m\u001B[0m\u001B[0m\n\u001B[0;32m     31\u001B[0m \u001B[0mcompleted_broadcast\u001B[0m \u001B[1;33m=\u001B[0m \u001B[0mtime\u001B[0m\u001B[1;33m.\u001B[0m\u001B[0mtime\u001B[0m\u001B[1;33m(\u001B[0m\u001B[1;33m)\u001B[0m \u001B[1;33m-\u001B[0m \u001B[0mstart_broadcast\u001B[0m\u001B[1;33m\u001B[0m\u001B[1;33m\u001B[0m\u001B[0m\n",
      "\u001B[1;31mAttributeError\u001B[0m: 'NoneType' object has no attribute 'blocks'"
     ]
    }
   ],
   "source": [
    "\"\"\"Initialize Nodes with Genesis Block\"\"\"\n",
    "\n",
    "print('START')\n",
    "MAX_NODES = 9999\n",
    "num_nodes = 80\n",
    "forging_interval = 10  # Time interval.  10 units of time\n",
    "nodes = [] #list of all nodes\n",
    "blockchain_dimensions = 4\n",
    "genesis_node_id = int(num_nodes/2)\n",
    "\n",
    "#itterate through and initialize each node\n",
    "then = time.time()\n",
    "for i in range(num_nodes):\n",
    "    new_node = Node(i+1, 0)\n",
    "    #new_node.blockchain = mkd_blockchain\n",
    "    new_node.start_listener('c0')\n",
    "    nodes.append(new_node)\n",
    "now = time.time()-then\n",
    "print(f'block init time @ {num_nodes} nodes: {now}')\n",
    "\n",
    "\n",
    "genesis_forger = nodes[genesis_node_id-1].wallet.public_key_string()\n",
    "mkd_blockchain = MKDBlockchain(blockchain_dimensions, genesis_node_id, genesis_forger)\n",
    "\n",
    "\n",
    "publisher = nodes[genesis_node_id-1]\n",
    "\n",
    "start_broadcast = time.time()\n",
    "publisher.publish(mkd_blockchain)\n",
    "completed_broadcast = time.time() - start_broadcast\n",
    "print(f'time to complete broadcast to {num_nodes} nodes: {completed_broadcast}')\n"
   ],
   "metadata": {
    "collapsed": false,
    "pycharm": {
     "name": "#%%\n"
    }
   }
  },
  {
   "cell_type": "code",
   "execution_count": 5,
   "outputs": [
    {
     "name": "stdout",
     "output_type": "stream",
     "text": [
      "KDNode(Block([40, 0, 0, 1626271660.7697668], [],\n",
      "0,\n",
      "-----BEGIN PUBLIC KEY-----\n",
      "MIIBIjANBgkqhkiG9w0BAQEFAAOCAQ8AMIIBCgKCAQEAusdYPnr3b3hcGnBFp34W\n",
      "ew6qGT++kAaV3q8IyNXIk5R96CfpiM4JtuoTy2SuMbmzRfsOhVp14CrBmREtHMGV\n",
      "vAwvqMswROJsi1r+0GpjQzn4og8I7/8kPSJlA0gaC1eoVTKQ8d8k6RpWfLQc9CGo\n",
      "FX16Chq65fE8gxz/hf4yxB+OaopOBqjCf33NxBlvdCgVC74dlT7AouWADdhGZENS\n",
      "+/p3Fj/vNoarDWiQFlScyUOKEoIU60o8H5K0H5iCcZrP5OGGUhuvS2zHYooqjKt0\n",
      "tn/Dp8GP7ePwlGICfROeccpOwHxCR11DeUtb4Czokwls34kv+0qDDJ0UrAWduh2E\n",
      "7wIDAQAB\n",
      "-----END PUBLIC KEY-----,\n",
      "), 0, None, 0\n"
     ]
    }
   ],
   "source": [
    "# \"\"\"Attempting to add a second block to the kdtree_blockchain\"\"\"\n",
    "#\n",
    "# attempt_node_id = 5\n",
    "# attempt_node = nodes[attempt_node_id-1]\n",
    "#\n",
    "# attempt_node.test_forge()\n",
    "#\n",
    "# kdtree.visualize(attempt_node.blockchain.blocks)\n",
    "# print(f'Root subtreeHash attempt: {nodes[4].blockchain.blocks.subtree_hash}')\n",
    "#\n",
    "# attempt_node_id = 1\n",
    "# attempt_node = nodes[attempt_node_id-1]\n",
    "#\n",
    "# attempt_node.test_forge()\n",
    "#\n",
    "# kdtree.visualize(attempt_node.blockchain.blocks)\n",
    "# print(f'Root subtreeHash attempt: {nodes[4].blockchain.blocks.subtree_hash}')\n",
    "#\n",
    "# attempt_node_id = 4\n",
    "# attempt_node = nodes[attempt_node_id-1]\n",
    "#\n",
    "# attempt_node.test_forge()\n",
    "#\n",
    "# kdtree.visualize(attempt_node.blockchain.blocks)\n",
    "# print(f'Root subtreeHash attempt: {nodes[4].blockchain.blocks.subtree_hash}')\n",
    "#\n",
    "#\n",
    "# attempt_node_id = 6\n",
    "# attempt_node = nodes[attempt_node_id-1]\n",
    "#\n",
    "# attempt_node.test_forge()\n",
    "#\n",
    "# kdtree.visualize(attempt_node.blockchain.blocks)\n",
    "# print(f'Root subtreeHash attempt: {nodes[4].blockchain.blocks.subtree_hash}')\n",
    "#\n",
    "# attempt_node_id = 5\n",
    "# attempt_node = nodes[attempt_node_id-1]\n",
    "#\n",
    "# attempt_node.test_forge()\n",
    "#\n",
    "# kdtree.visualize(attempt_node.blockchain.blocks)\n",
    "#\n",
    "# print(f'Root subtreeHash attempt: {nodes[4].blockchain.blocks.subtree_hash}')\n",
    "#\n",
    "# test_block = nodes[5].blockchain.blocks.left.data\n",
    "# print(test_block)\n",
    "# print(f'Parent Hash: {BlockchainUtils.hash(test_block.to_json()).hexdigest()}')\n",
    "# child_block = nodes[5].blockchain.blocks.left.right.data\n",
    "# print(child_block)"
   ],
   "metadata": {
    "collapsed": false,
    "pycharm": {
     "name": "#%%\n"
    }
   }
  },
  {
   "cell_type": "code",
   "execution_count": 7,
   "outputs": [
    {
     "name": "stdout",
     "output_type": "stream",
     "text": [
      "{0: [5], 1: [], 2: [], 3: [], 4: [], 5: [], 6: [], 7: [], 8: [], 9: [], 10: [], 11: [], 12: [], 13: [], 14: [], 15: [], 16: [], 17: [], 18: [], 19: [], 20: [], 21: [], 22: [], 23: [], 24: [], 25: [], 26: [], 27: [], 28: [], 29: [], 30: [], 31: [], 32: [], 33: [], 34: [], 35: [], 36: [], 37: [], 38: [], 39: [], 40: [], 41: [], 42: [], 43: [], 44: [], 45: [], 46: [], 47: [], 48: [], 49: [], 50: [], 51: [], 52: [], 53: [], 54: [], 55: [], 56: [], 57: [], 58: [], 59: [], 60: [], 61: [], 62: [], 63: [], 64: [], 65: [], 66: [], 67: [], 68: [], 69: [], 70: [], 71: [], 72: [], 73: [], 74: [], 75: [], 76: [], 77: [], 78: [], 79: []}\n"
     ]
    }
   ],
   "source": [
    "# TODO: Need to generate random transactions and need to start implementing test data.\n"
   ],
   "metadata": {
    "collapsed": false,
    "pycharm": {
     "name": "#%%\n"
    }
   }
  },
  {
   "cell_type": "code",
   "execution_count": null,
   "outputs": [],
   "source": [
    "#Opens the data set file and generates nodes based on the provided data.\n",
    "#file is comma delimited in the following format: time-nodeID-xcoor-ycoor-miner-region-prevregion\n",
    "then = time.time()\n",
    "with open('node_data.txt') as f:\n",
    "    lines = f.readlines() # list containing lines of file\n",
    "    i = 0\n",
    "\n",
    "\n",
    "    nodes_transacting = []\n",
    "    # DICT: key = prev cluster id value = [nodes]\n",
    "    # TODO: Ensure we traverse all nodes in list because they may have moved to different clusters\n",
    "    nodes_to_merge = {k: [] for k in range(num_nodes)}\n",
    "\n",
    "    for line in lines:\n",
    "        j = i%num_nodes  # j will represent the increments of nodes\n",
    "        parts = line.split(',')\n",
    "\n",
    "        moving_node = nodes[j]  # choosing specific node to manipulate\n",
    "\n",
    "        old_cluster_id = int(moving_node.cluster_id)\n",
    "        new_cluster_id = int(parts[5])\n",
    "        old_topic = 'c'+str(old_cluster_id).strip()\n",
    "        new_topic = 'c' + str(new_cluster_id).strip()\n",
    "\n",
    "        # gives nodes their coordinates and moves them into their new cluster\n",
    "        moving_node.coords = [int(parts[2]), int(parts[3])]\n",
    "\n",
    "        # if node is moving into a new cluster (excluding the genesis cluster) /\n",
    "        # then we need to record to merge and clear it's transaction pool\n",
    "        if old_topic != new_topic:\n",
    "            moving_node.cluster_id = new_cluster_id\n",
    "            moving_node.move_listener(old_topic, new_topic)\n",
    "            if old_topic != 'c0':\n",
    "                nodes_to_merge[old_cluster_id].append(moving_node)\n",
    "\n",
    "                # clears only if not last node to leave cluster\n",
    "                moving_node.transaction_pool  = TransactionPool()\n",
    "\n",
    "        #  generates list of nodes that need to publish a transaction to their cluster\n",
    "        if int(parts[4]) == 1:\n",
    "            nodes_transacting.append(moving_node)\n",
    "\n",
    "\n",
    "\n",
    "\n",
    "\n",
    "\n",
    "        #  Once it reaches the end of each set of nodes from the data file (80 for this first test file)\n",
    "        if j == (num_nodes-1):\n",
    "            #  Now it needs to merge first then send transactions\n",
    "\n",
    "\n",
    "        for node in nodes_transacting:\n",
    "            transaction = SensorTransaction(node.wallet.public_key_string(), random.randint(0,1000))\n",
    "            node.publish(transaction)\n",
    "\n",
    "        # if time to forge then forge and broadcast, needs to scan and perform all clusters\n",
    "            if int(parts[1])%forging_interval == 0:\n",
    "                # if transaction pool not empty then forge and broadcast\n",
    "                # Need to select forger then use mkd_forge (change return to broadcast)\n",
    "\n",
    "\n",
    "\n",
    "\n",
    "\n",
    "\n",
    "\n",
    "        i += 1\n",
    "\n",
    "\n",
    "now = time.time() - then\n",
    "print(f'Complete movement simulation @ {num_nodes} nodes: {now}')"
   ],
   "metadata": {
    "collapsed": false,
    "pycharm": {
     "name": "#%%\n"
    }
   }
  }
 ],
 "metadata": {
  "kernelspec": {
   "name": "python3",
   "language": "python",
   "display_name": "Python 3"
  },
  "language_info": {
   "codemirror_mode": {
    "name": "ipython",
    "version": 2
   },
   "file_extension": ".py",
   "mimetype": "text/x-python",
   "name": "python",
   "nbconvert_exporter": "python",
   "pygments_lexer": "ipython2",
   "version": "2.7.6"
  }
 },
 "nbformat": 4,
 "nbformat_minor": 0
}