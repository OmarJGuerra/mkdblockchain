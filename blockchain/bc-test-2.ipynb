{
 "cells": [
  {
   "cell_type": "code",
   "execution_count": 6,
   "metadata": {
    "collapsed": true
   },
   "outputs": [],
   "source": [
    "\"\"\"Import all the relevant libraries.\"\"\"\n",
    "\n",
    "from mkd_blockchain import MKDBlockchain\n",
    "from blockchain_utils import BlockchainUtils\n",
    "import block\n",
    "from pubsub import pub\n",
    "from node import Node\n",
    "from transaction import Transaction\n",
    "from transaction_pool import TransactionPool\n",
    "from wallet import Wallet\n",
    "from Crypto.PublicKey import RSA\n",
    "import pprint\n",
    "import random\n",
    "import time\n",
    "from mkdtree import kdtree"
   ]
  },
  {
   "cell_type": "code",
   "execution_count": 10,
   "outputs": [
    {
     "name": "stdout",
     "output_type": "stream",
     "text": [
      "START\n",
      "[<node.Node object at 0x000002130954B910>, <node.Node object at 0x0000021306E438E0>, <node.Node object at 0x0000021306E3DD90>, <node.Node object at 0x000002130953D820>, <node.Node object at 0x000002130760FF10>, <node.Node object at 0x00000213079E0550>, <node.Node object at 0x000002130962D2E0>, <node.Node object at 0x0000021306E480D0>, <node.Node object at 0x0000021306E481F0>, <node.Node object at 0x0000021309636970>, <node.Node object at 0x000002130954BD90>, <node.Node object at 0x0000021309636E80>, <node.Node object at 0x000002130954B4C0>, <node.Node object at 0x000002130954B790>, <node.Node object at 0x0000021309636760>, <node.Node object at 0x0000021309638160>, <node.Node object at 0x00000213096369A0>, <node.Node object at 0x0000021307625730>, <node.Node object at 0x0000021309638BE0>, <node.Node object at 0x0000021309639A00>, <node.Node object at 0x0000021309638640>, <node.Node object at 0x0000021309638610>, <node.Node object at 0x0000021309639FD0>, <node.Node object at 0x000002130963CF70>, <node.Node object at 0x0000021309639D30>, <node.Node object at 0x00000213096392B0>, <node.Node object at 0x000002130963CFD0>, <node.Node object at 0x000002130963EC10>, <node.Node object at 0x000002130963CC10>, <node.Node object at 0x00000213096409D0>, <node.Node object at 0x000002130963CBE0>, <node.Node object at 0x00000213096400A0>, <node.Node object at 0x000002130963CB50>, <node.Node object at 0x000002130963CB80>, <node.Node object at 0x0000021309640A30>, <node.Node object at 0x0000021309643AC0>, <node.Node object at 0x0000021309645610>, <node.Node object at 0x0000021309643670>, <node.Node object at 0x0000021309645EB0>, <node.Node object at 0x00000213096439A0>, <node.Node object at 0x0000021309643940>, <node.Node object at 0x0000021309645F40>, <node.Node object at 0x0000021309649C70>, <node.Node object at 0x0000021309645B50>, <node.Node object at 0x0000021309645730>, <node.Node object at 0x0000021309649B80>, <node.Node object at 0x000002130964BFD0>, <node.Node object at 0x0000021309649BE0>, <node.Node object at 0x0000021309649F70>, <node.Node object at 0x000002130964BFA0>, <node.Node object at 0x000002130964EE50>, <node.Node object at 0x000002130964B7F0>, <node.Node object at 0x000002130964FB20>, <node.Node object at 0x000002130964BCD0>, <node.Node object at 0x000002130964F3A0>, <node.Node object at 0x000002130964BD90>, <node.Node object at 0x000002130964BE80>, <node.Node object at 0x000002130964FC10>, <node.Node object at 0x0000021309652B50>, <node.Node object at 0x0000021309655B50>, <node.Node object at 0x0000021309652C10>, <node.Node object at 0x0000021309655D30>, <node.Node object at 0x0000021309652A00>, <node.Node object at 0x0000021309657D90>, <node.Node object at 0x0000021309652F70>, <node.Node object at 0x0000021309652BB0>, <node.Node object at 0x0000021309655F70>, <node.Node object at 0x0000021309655E80>, <node.Node object at 0x0000021309657DC0>, <node.Node object at 0x000002130965BDC0>, <node.Node object at 0x0000021309657F40>, <node.Node object at 0x000002130965C8E0>, <node.Node object at 0x0000021309657F10>, <node.Node object at 0x000002130965C220>, <node.Node object at 0x0000021309657F70>, <node.Node object at 0x0000021309657BB0>, <node.Node object at 0x000002130965CA90>, <node.Node object at 0x000002130965FA00>, <node.Node object at 0x0000021309662BB0>, <node.Node object at 0x000002130965F790>]\n"
     ]
    }
   ],
   "source": [
    "\"\"\"Initialize Nodes with Genesis Block\"\"\"\n",
    "\n",
    "print('START')\n",
    "MAX_NODES = 9999\n",
    "num_nodes = 80\n",
    "\n",
    "node_id_list = [int(MAX_NODES / 2)]\n",
    "mkd_blkchain = MKDBlockchain()\n",
    "\n",
    "nodes = [] #list of all nodes\n",
    "\n",
    "#itterate through and initialize each node with the genesis block\n",
    "for i in range(num_nodes):\n",
    "    new_node = Node(i+1, 0)\n",
    "    new_node.blockchain = mkd_blkchain\n",
    "    nodes.append(new_node)\n",
    "\n",
    "print(nodes)\n"
   ],
   "metadata": {
    "collapsed": false,
    "pycharm": {
     "name": "#%%\n"
    }
   }
  },
  {
   "cell_type": "code",
   "execution_count": 17,
   "outputs": [
    {
     "name": "stdout",
     "output_type": "stream",
     "text": [
      "<KDNode - Block([40, 0, 0, 1625679474.351727], [])>\n",
      "<KDNode - Block([40, 0, 0, 1625679474.351727], [])>\n"
     ]
    }
   ],
   "source": [
    "sample = nodes[1]\n",
    "sample2 = nodes[2]\n",
    "print(sample.blockchain.blocks)\n",
    "print(sample2.blockchain.blocks)"
   ],
   "metadata": {
    "collapsed": false,
    "pycharm": {
     "name": "#%%\n"
    }
   }
  },
  {
   "cell_type": "code",
   "execution_count": 8,
   "outputs": [
    {
     "data": {
      "text/plain": "'\\n#Opens the data set file and generates nodes based on the provided data.\\n#file is comma delimited in the following format: time-nodeID-xcoor-ycoor-miner-region-prevregion\\nwith open(\\'node_data.txt\\') as f:\\n    lines = f.readlines() # list containing lines of file\\n    i = 0\\n    node = []\\n    for line in lines:\\n        parts = line.split(\\',\\')\\n        #itterates through based on the number of nodes provided.\\n        if i < num_nodes:\\n            new_node = Node(i + 1, parts[5])\\n            new_node.startListener(\"c\" + str(parts[5]).strip())\\n            node.append(new_node)\\n        else:\\n            move_listener(node[i % num_nodes].node_listener, \"c\" + str(parts[6]).strip(), \"c\" + str(parts[5]).strip())\\n        i += 1\\n\\nprint(tree)\\nprint(tree.sel_axis)\\n'"
     },
     "execution_count": 8,
     "metadata": {},
     "output_type": "execute_result"
    }
   ],
   "source": [],
   "metadata": {
    "collapsed": false,
    "pycharm": {
     "name": "#%%\n"
    }
   }
  }
 ],
 "metadata": {
  "kernelspec": {
   "name": "python3",
   "language": "python",
   "display_name": "Python 3"
  },
  "language_info": {
   "codemirror_mode": {
    "name": "ipython",
    "version": 2
   },
   "file_extension": ".py",
   "mimetype": "text/x-python",
   "name": "python",
   "nbconvert_exporter": "python",
   "pygments_lexer": "ipython2",
   "version": "2.7.6"
  }
 },
 "nbformat": 4,
 "nbformat_minor": 0
}