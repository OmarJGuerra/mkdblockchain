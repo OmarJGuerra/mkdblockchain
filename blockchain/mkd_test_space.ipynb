{
 "cells": [
  {
   "cell_type": "code",
   "execution_count": 3,
   "metadata": {
    "collapsed": true
   },
   "outputs": [],
   "source": [
    "\"\"\"Import all the relevant libraries.\"\"\"\n",
    "\n",
    "from mkd_blockchain import MKDBlockchain\n",
    "from blockchain_utils import BlockchainUtils\n",
    "import block\n",
    "from pubsub import pub\n",
    "from node import Node\n",
    "from transaction import Transaction\n",
    "from sensor_transaction import SensorTransaction\n",
    "from transaction_pool import TransactionPool\n",
    "from wallet import Wallet\n",
    "from Crypto.PublicKey import RSA\n",
    "import pprint\n",
    "import random\n",
    "import time\n",
    "from cluster import Cluster\n",
    "import kdtree\n",
    "import copy"
   ]
  },
  {
   "cell_type": "code",
   "execution_count": 4,
   "outputs": [
    {
     "name": "stdout",
     "output_type": "stream",
     "text": [
      "START\n",
      "node init time @ 50 nodes: 98.92878794670105\n"
     ]
    }
   ],
   "source": [
    "\"\"\"Initialize Nodes\"\"\"\n",
    "\n",
    "print('START')\n",
    "test_num = 1\n",
    "cycles = 10\n",
    "MAX_NODES = 9999\n",
    "num_nodes = 50\n",
    "num_clusters = 1\n",
    "forging_interval = 2  # Time interval.  units of cycle\n",
    "nodes = [] #list of all nodes\n",
    "blockchain_dimensions = 4\n",
    "genesis_node_id = int(num_nodes/2)\n",
    "\n",
    "#itterate through and initialize each node\n",
    "then = time.time()\n",
    "for i in range(num_nodes):\n",
    "    new_node = Node(test_num, i+1, f'{test_num}.c0')\n",
    "    #new_node.blockchain = mkd_blockchain\n",
    "    new_node.start_listener(f'{test_num}.c0')\n",
    "    nodes.append(new_node)\n",
    "now = time.time()-then\n",
    "print(f'node init time @ {num_nodes} nodes: {now}')"
   ],
   "metadata": {
    "collapsed": false,
    "pycharm": {
     "name": "#%%\n"
    }
   }
  },
  {
   "cell_type": "code",
   "execution_count": 5,
   "outputs": [
    {
     "ename": "FileNotFoundError",
     "evalue": "[Errno 2] No such file or directory: 'blockchain/keys/genesisPublicKey.pem'",
     "output_type": "error",
     "traceback": [
      "\u001B[1;31m---------------------------------------------------------------------------\u001B[0m",
      "\u001B[1;31mFileNotFoundError\u001B[0m                         Traceback (most recent call last)",
      "\u001B[1;32m<ipython-input-5-c26ec5cf6ecd>\u001B[0m in \u001B[0;36m<module>\u001B[1;34m\u001B[0m\n\u001B[0;32m      3\u001B[0m \u001B[0mclusters\u001B[0m \u001B[1;33m=\u001B[0m \u001B[1;33m[\u001B[0m\u001B[1;33m]\u001B[0m\u001B[1;33m\u001B[0m\u001B[1;33m\u001B[0m\u001B[0m\n\u001B[0;32m      4\u001B[0m \u001B[1;32mfor\u001B[0m \u001B[0mi\u001B[0m \u001B[1;32min\u001B[0m \u001B[0mrange\u001B[0m\u001B[1;33m(\u001B[0m\u001B[0mnum_clusters\u001B[0m\u001B[1;33m)\u001B[0m\u001B[1;33m:\u001B[0m\u001B[1;33m\u001B[0m\u001B[1;33m\u001B[0m\u001B[0m\n\u001B[1;32m----> 5\u001B[1;33m     \u001B[0mnew_cluster\u001B[0m \u001B[1;33m=\u001B[0m \u001B[0mCluster\u001B[0m\u001B[1;33m(\u001B[0m\u001B[0mi\u001B[0m\u001B[1;33m,\u001B[0m \u001B[0mtest_num\u001B[0m\u001B[1;33m)\u001B[0m\u001B[1;33m\u001B[0m\u001B[1;33m\u001B[0m\u001B[0m\n\u001B[0m\u001B[0;32m      6\u001B[0m     \u001B[0mnew_cluster\u001B[0m\u001B[1;33m.\u001B[0m\u001B[0mstart_listener\u001B[0m\u001B[1;33m(\u001B[0m\u001B[1;34mf'{test_num}.c{i}'\u001B[0m\u001B[1;33m)\u001B[0m\u001B[1;33m\u001B[0m\u001B[1;33m\u001B[0m\u001B[0m\n\u001B[0;32m      7\u001B[0m     \u001B[0mclusters\u001B[0m\u001B[1;33m.\u001B[0m\u001B[0mappend\u001B[0m\u001B[1;33m(\u001B[0m\u001B[0mnew_cluster\u001B[0m\u001B[1;33m)\u001B[0m\u001B[1;33m\u001B[0m\u001B[1;33m\u001B[0m\u001B[0m\n",
      "\u001B[1;32m~\\PycharmProjects\\mkdblockchain\\blockchain\\cluster.py\u001B[0m in \u001B[0;36m__init__\u001B[1;34m(self, c_id, t_num)\u001B[0m\n\u001B[0;32m     17\u001B[0m         \u001B[0mself\u001B[0m\u001B[1;33m.\u001B[0m\u001B[0mfull_topic\u001B[0m \u001B[1;33m=\u001B[0m \u001B[0mstr\u001B[0m\u001B[1;33m(\u001B[0m\u001B[0mt_num\u001B[0m\u001B[1;33m)\u001B[0m\u001B[1;33m.\u001B[0m\u001B[0mstrip\u001B[0m\u001B[1;33m(\u001B[0m\u001B[1;33m)\u001B[0m \u001B[1;33m+\u001B[0m \u001B[0mself\u001B[0m\u001B[1;33m.\u001B[0m\u001B[0mcluster_topic\u001B[0m\u001B[1;33m\u001B[0m\u001B[1;33m\u001B[0m\u001B[0m\n\u001B[0;32m     18\u001B[0m         \u001B[0mself\u001B[0m\u001B[1;33m.\u001B[0m\u001B[0mmember_nodes\u001B[0m \u001B[1;33m=\u001B[0m \u001B[1;33m[\u001B[0m\u001B[1;33m]\u001B[0m\u001B[1;33m\u001B[0m\u001B[1;33m\u001B[0m\u001B[0m\n\u001B[1;32m---> 19\u001B[1;33m         \u001B[0mself\u001B[0m\u001B[1;33m.\u001B[0m\u001B[0mpos\u001B[0m \u001B[1;33m=\u001B[0m \u001B[0mProofOfStake\u001B[0m\u001B[1;33m(\u001B[0m\u001B[1;33m)\u001B[0m\u001B[1;33m\u001B[0m\u001B[1;33m\u001B[0m\u001B[0m\n\u001B[0m\u001B[0;32m     20\u001B[0m \u001B[1;33m\u001B[0m\u001B[0m\n\u001B[0;32m     21\u001B[0m         \u001B[0mpub\u001B[0m\u001B[1;33m.\u001B[0m\u001B[0msubscribe\u001B[0m\u001B[1;33m(\u001B[0m\u001B[0mself\u001B[0m\u001B[1;33m.\u001B[0m\u001B[0mcluster_listener\u001B[0m\u001B[1;33m,\u001B[0m \u001B[0mself\u001B[0m\u001B[1;33m.\u001B[0m\u001B[0mcluster_topic\u001B[0m\u001B[1;33m)\u001B[0m\u001B[1;33m\u001B[0m\u001B[1;33m\u001B[0m\u001B[0m\n",
      "\u001B[1;32m~\\PycharmProjects\\mkdblockchain\\blockchain\\proof_of_stake.py\u001B[0m in \u001B[0;36m__init__\u001B[1;34m(self)\u001B[0m\n\u001B[0;32m      7\u001B[0m     \u001B[1;32mdef\u001B[0m \u001B[0m__init__\u001B[0m\u001B[1;33m(\u001B[0m\u001B[0mself\u001B[0m\u001B[1;33m)\u001B[0m\u001B[1;33m:\u001B[0m\u001B[1;33m\u001B[0m\u001B[1;33m\u001B[0m\u001B[0m\n\u001B[0;32m      8\u001B[0m         \u001B[0mself\u001B[0m\u001B[1;33m.\u001B[0m\u001B[0mstakers\u001B[0m \u001B[1;33m=\u001B[0m \u001B[1;33m{\u001B[0m\u001B[1;33m}\u001B[0m\u001B[1;33m\u001B[0m\u001B[1;33m\u001B[0m\u001B[0m\n\u001B[1;32m----> 9\u001B[1;33m         \u001B[0mself\u001B[0m\u001B[1;33m.\u001B[0m\u001B[0mset_genesis_node_stake\u001B[0m\u001B[1;33m(\u001B[0m\u001B[1;33m)\u001B[0m\u001B[1;33m\u001B[0m\u001B[1;33m\u001B[0m\u001B[0m\n\u001B[0m\u001B[0;32m     10\u001B[0m \u001B[1;33m\u001B[0m\u001B[0m\n\u001B[0;32m     11\u001B[0m     \u001B[1;32mdef\u001B[0m \u001B[0mset_genesis_node_stake\u001B[0m\u001B[1;33m(\u001B[0m\u001B[0mself\u001B[0m\u001B[1;33m)\u001B[0m\u001B[1;33m:\u001B[0m\u001B[1;33m\u001B[0m\u001B[1;33m\u001B[0m\u001B[0m\n",
      "\u001B[1;32m~\\PycharmProjects\\mkdblockchain\\blockchain\\proof_of_stake.py\u001B[0m in \u001B[0;36mset_genesis_node_stake\u001B[1;34m(self)\u001B[0m\n\u001B[0;32m     10\u001B[0m \u001B[1;33m\u001B[0m\u001B[0m\n\u001B[0;32m     11\u001B[0m     \u001B[1;32mdef\u001B[0m \u001B[0mset_genesis_node_stake\u001B[0m\u001B[1;33m(\u001B[0m\u001B[0mself\u001B[0m\u001B[1;33m)\u001B[0m\u001B[1;33m:\u001B[0m\u001B[1;33m\u001B[0m\u001B[1;33m\u001B[0m\u001B[0m\n\u001B[1;32m---> 12\u001B[1;33m         \u001B[0mgenesis_public_key\u001B[0m \u001B[1;33m=\u001B[0m \u001B[0mopen\u001B[0m\u001B[1;33m(\u001B[0m\u001B[1;34m'blockchain/keys/genesisPublicKey.pem'\u001B[0m\u001B[1;33m,\u001B[0m \u001B[1;34m'r'\u001B[0m\u001B[1;33m)\u001B[0m\u001B[1;33m.\u001B[0m\u001B[0mread\u001B[0m\u001B[1;33m(\u001B[0m\u001B[1;33m)\u001B[0m  \u001B[1;31m# added blockchain to file path\u001B[0m\u001B[1;33m\u001B[0m\u001B[1;33m\u001B[0m\u001B[0m\n\u001B[0m\u001B[0;32m     13\u001B[0m         \u001B[0mself\u001B[0m\u001B[1;33m.\u001B[0m\u001B[0mstakers\u001B[0m\u001B[1;33m[\u001B[0m\u001B[0mgenesis_public_key\u001B[0m\u001B[1;33m]\u001B[0m \u001B[1;33m=\u001B[0m \u001B[1;36m10\u001B[0m\u001B[1;33m\u001B[0m\u001B[1;33m\u001B[0m\u001B[0m\n\u001B[0;32m     14\u001B[0m \u001B[1;33m\u001B[0m\u001B[0m\n",
      "\u001B[1;31mFileNotFoundError\u001B[0m: [Errno 2] No such file or directory: 'blockchain/keys/genesisPublicKey.pem'"
     ]
    }
   ],
   "source": [
    "\"\"\"Initialize clusters\"\"\"\n",
    "#  initialize each cluster\n",
    "clusters = []\n",
    "for i in range(num_clusters):\n",
    "    new_cluster = Cluster(i, test_num)\n",
    "    new_cluster.start_listener(f'{test_num}.c{i}')\n",
    "    clusters.append(new_cluster)\n",
    "    print(f'cluster {new_cluster.cluster_id} initialized')"
   ],
   "metadata": {
    "collapsed": false,
    "pycharm": {
     "name": "#%%\n"
    }
   }
  },
  {
   "cell_type": "code",
   "execution_count": null,
   "outputs": [],
   "source": [
    "\"\"\"Create genesis block and publish to each node\"\"\"\n",
    "\n",
    "genesis_forger = nodes[genesis_node_id-1].wallet.public_key_string()\n",
    "mkd_blockchain = MKDBlockchain(blockchain_dimensions, genesis_node_id, genesis_forger)\n",
    "publisher = nodes[genesis_node_id-1]\n",
    "start_broadcast = time.time()\n",
    "publisher.publish(mkd_blockchain)\n",
    "completed_broadcast = time.time() - start_broadcast\n",
    "print(f'time to complete broadcast of genesis block {mkd_blockchain.blocks.data} to {num_nodes} nodes: {completed_broadcast}')"
   ],
   "metadata": {
    "collapsed": false,
    "pycharm": {
     "name": "#%%\n"
    }
   }
  },
  {
   "cell_type": "code",
   "execution_count": null,
   "outputs": [],
   "source": [
    "'''Create randomized list of node indexes'''\n",
    "\n",
    "randomized_node_indexes = []\n",
    "for i in range(num_nodes):\n",
    "    randomized_node_indexes.append(i)\n",
    "randomized_node_indexes: random.shuffle(randomized_node_indexes)\n",
    "print(randomized_node_indexes)"
   ],
   "metadata": {
    "collapsed": false,
    "pycharm": {
     "name": "#%%\n"
    }
   }
  },
  {
   "cell_type": "code",
   "execution_count": null,
   "outputs": [],
   "source": [
    "'''Randomly moves nodes into their initial clusters'''\n",
    "\n",
    "nodes_available = len(nodes)\n",
    "while nodes_available != 0:\n",
    "    amount_to_move = random.randint(0,2)\n",
    "    random_cluster = f'{test_num}.c{(random.randint(1,num_clusters))}'\n",
    "    if nodes_available > 0 and nodes_available >= amount_to_move and nodes_available != 0:  # min 1 max 4\n",
    "        for node in range(amount_to_move):\n",
    "            nodes_available -= 1\n",
    "            move_index = randomized_node_indexes.pop(0)\n",
    "            nodes[move_index].move_node(nodes[move_index].cluster_id, random_cluster)"
   ],
   "metadata": {
    "collapsed": false,
    "pycharm": {
     "name": "#%%\n"
    }
   }
  },
  {
   "cell_type": "code",
   "execution_count": null,
   "outputs": [],
   "source": [
    "'''Going to generate random transactions to publish at random intervals'''\n",
    "\n",
    "# return true or false randomly\n",
    "def gen_random():\n",
    "    return bool(random.getrandbits(1))\n",
    "\n",
    "# Traverses all nodes during each cycle and randomly creates transactions and moves nodes and forges a block at the chosen forge interval\n",
    "for i in range(cycles):\n",
    "    for node in nodes:\n",
    "        if gen_random():  # Generate transactions randomly\n",
    "            transaction = SensorTransaction(node.wallet.public_key_string(), random.randint(0,1000))\n",
    "            node.publish(transaction)\n",
    "        if gen_random():  # Moves the nodes randomly\n",
    "            random_cluster = f'{test_num}.c{(random.randint(1,num_clusters))}'\n",
    "            node.move_node(node.cluster_id, random_cluster)\n",
    "        if i%forging_interval == 0:  # Forges at chosen forge interval in cycles\n",
    "            for cluster in clusters:  # Each cluster forges a block at the chosen interval\n",
    "                forger = cluster.next_forger()\n",
    "                for cluster_node in cluster.member_nodes:\n",
    "                    if cluster_node.wallet.public_key_string() == forger and cluster_node.transaction_pool.transactions is not []:\n",
    "                        cluster_node.coords = [random.randint(1,100), random.randint(1,100)]\n",
    "                        cluster_node.mkd_forge()\n",
    "\n",
    "#  Need to move all nodes into the same cluster at the end and merge all chains\n",
    "for node in nodes:\n",
    "    random_cluster = f'{test_num}.c1'\n",
    "    node.move_node(node.cluster_id, random_cluster)\n",
    "\n",
    "\n",
    "print(f'Final Tree size: {clusters[0].member_nodes[0].blockchain.blocks.size} Left branch size: {clusters[0].member_nodes[0].blockchain.blocks.left_size} Right branch size: {clusters[0].member_nodes[0].blockchain.blocks.right_size}')\n",
    "# print(f'Cluster mkd-tree blockchain: ')\n",
    "# kdtree.visualize(clusters[0].member_nodes[0].blockchain.blocks)"
   ],
   "metadata": {
    "collapsed": false,
    "pycharm": {
     "name": "#%%\n"
    }
   }
  },
  {
   "cell_type": "code",
   "execution_count": null,
   "outputs": [],
   "source": [
    "\"\"\"Forge random blocks at random intervals (need to code for specific forging triggers)\"\"\"\n",
    "\n",
    "# number_of_forges = 4\n",
    "#\n",
    "# for i in range(number_of_forges):\n",
    "#     random_node = random.randint(0, num_nodes-1)\n",
    "#     random_move = random.randint(0, num_nodes-1)\n",
    "#     # if 1 == random.randint(0,5):  # to cause random movement\n",
    "#     #      random_move.node.move_node()\n",
    "#     forge_node = nodes[random_node]\n",
    "#     forge_node.mkd_forge()\n",
    "#\n",
    "# for node in nodes:\n",
    "#     print(f'Cluster_id: {node.cluster_id} Node_id: {node.node_id} Tree size: {node.blockchain.blocks.size} Left size: {node.blockchain.blocks.left_size} Right size: {node.blockchain.blocks.right_size}')"
   ],
   "metadata": {
    "collapsed": false,
    "pycharm": {
     "name": "#%%\n"
    }
   }
  }
 ],
 "metadata": {
  "kernelspec": {
   "display_name": "Python 3",
   "language": "python",
   "name": "python3"
  },
  "language_info": {
   "codemirror_mode": {
    "name": "ipython",
    "version": 2
   },
   "file_extension": ".py",
   "mimetype": "text/x-python",
   "name": "python",
   "nbconvert_exporter": "python",
   "pygments_lexer": "ipython2",
   "version": "2.7.6"
  }
 },
 "nbformat": 4,
 "nbformat_minor": 0
}