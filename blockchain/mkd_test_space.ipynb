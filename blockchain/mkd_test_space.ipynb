{
 "cells": [
  {
   "cell_type": "code",
   "execution_count": 17,
   "metadata": {
    "collapsed": true
   },
   "outputs": [],
   "source": [
    "import copy\n",
    "\n",
    "\"\"\"Import all the relevant libraries.\"\"\"\n",
    "\n",
    "from mkd_blockchain import MKDBlockchain\n",
    "from blockchain_utils import BlockchainUtils\n",
    "import block\n",
    "from pubsub import pub\n",
    "from node import Node\n",
    "from transaction import Transaction\n",
    "from sensor_transaction import SensorTransaction\n",
    "from transaction_pool import TransactionPool\n",
    "from wallet import Wallet\n",
    "from Crypto.PublicKey import RSA\n",
    "import pprint\n",
    "import random\n",
    "import time\n",
    "from cluster import Cluster\n",
    "import kdtree"
   ]
  },
  {
   "cell_type": "code",
   "execution_count": 18,
   "outputs": [
    {
     "name": "stdout",
     "output_type": "stream",
     "text": [
      "START\n",
      "block init time @ 10 nodes: 24.183109760284424\n",
      "cluster 1 initialized\n",
      "cluster 2 initialized\n",
      "here\n",
      "time to complete broadcast to 10 nodes: 0.003000020980834961\n"
     ]
    }
   ],
   "source": [
    "\"\"\"Initialize Nodes with Genesis Block\"\"\"\n",
    "\n",
    "print('START')\n",
    "test_num = 1\n",
    "MAX_NODES = 9999\n",
    "num_nodes = 10\n",
    "num_clusters = 2\n",
    "forging_interval = 10  # Time interval.  10 units of time\n",
    "nodes = [] #list of all nodes\n",
    "blockchain_dimensions = 4\n",
    "genesis_node_id = int(num_nodes/2)\n",
    "\n",
    "#itterate through and initialize each node\n",
    "then = time.time()\n",
    "for i in range(num_nodes):\n",
    "    new_node = Node(test_num, i+1, f'{test_num}.c0')\n",
    "    #new_node.blockchain = mkd_blockchain\n",
    "    new_node.start_listener(f'{test_num}.c0')\n",
    "    nodes.append(new_node)\n",
    "now = time.time()-then\n",
    "print(f'block init time @ {num_nodes} nodes: {now}')\n",
    "\n",
    "#  initialize each cluster\n",
    "clusters = []\n",
    "for i in range(num_clusters):\n",
    "    new_cluster = Cluster(i+1, test_num)\n",
    "    new_cluster.start_listener(f'{test_num}.c{i+1}')\n",
    "    clusters.append(new_cluster)\n",
    "    print(f'cluster {new_cluster.cluster_id} initialized')\n",
    "\n",
    "genesis_forger = nodes[genesis_node_id-1].wallet.public_key_string()\n",
    "mkd_blockchain = MKDBlockchain(blockchain_dimensions, genesis_node_id, genesis_forger)\n",
    "\n",
    "\n",
    "publisher = nodes[genesis_node_id-1]\n",
    "\n",
    "start_broadcast = time.time()\n",
    "print('here')\n",
    "publisher.publish(mkd_blockchain)\n",
    "completed_broadcast = time.time() - start_broadcast\n",
    "print(f'time to complete broadcast to {num_nodes} nodes: {completed_broadcast}')\n"
   ],
   "metadata": {
    "collapsed": false,
    "pycharm": {
     "name": "#%%\n"
    }
   }
  },
  {
   "cell_type": "code",
   "execution_count": 19,
   "outputs": [
    {
     "name": "stdout",
     "output_type": "stream",
     "text": [
      "[3, 4, 8, 9, 5, 7, 1, 2, 0, 6]\n"
     ]
    }
   ],
   "source": [
    "'''Create randomized list of node indexes'''\n",
    "\n",
    "randomized_node_indexes = []\n",
    "for i in range(num_nodes):\n",
    "    randomized_node_indexes.append(i)\n",
    "randomized_node_indexes: random.shuffle(randomized_node_indexes)\n",
    "print(randomized_node_indexes)"
   ],
   "metadata": {
    "collapsed": false,
    "pycharm": {
     "name": "#%%\n"
    }
   }
  },
  {
   "cell_type": "code",
   "execution_count": 20,
   "outputs": [
    {
     "name": "stdout",
     "output_type": "stream",
     "text": [
      "nodes_available: 10 amount_to_move: 0\n",
      "nodes_available: 10 amount_to_move: 2\n",
      "move_index: 3\n",
      "move_index: 4\n",
      "nodes_available: 8 amount_to_move: 1\n",
      "move_index: 8\n",
      "nodes_available: 7 amount_to_move: 2\n",
      "move_index: 9\n",
      "move_index: 5\n",
      "nodes_available: 5 amount_to_move: 2\n",
      "move_index: 7\n",
      "move_index: 1\n",
      "nodes_available: 3 amount_to_move: 0\n",
      "nodes_available: 3 amount_to_move: 2\n",
      "move_index: 2\n",
      "move_index: 0\n",
      "nodes_available: 1 amount_to_move: 1\n",
      "move_index: 6\n",
      "[<node.Node object at 0x000002CA684EFDF0>, <node.Node object at 0x000002CA6804FCD0>, <node.Node object at 0x000002CA65ECEA60>, <node.Node object at 0x000002CA68045BB0>]\n",
      "[<node.Node object at 0x000002CA6804F310>, <node.Node object at 0x000002CA6804F730>, <node.Node object at 0x000002CA684EF730>, <node.Node object at 0x000002CA684EF5E0>, <node.Node object at 0x000002CA68045CD0>, <node.Node object at 0x000002CA6804FEE0>]\n"
     ]
    }
   ],
   "source": [
    "nodes_available = len(nodes)\n",
    "while nodes_available != 0:\n",
    "    amount_to_move = random.randint(0,2)\n",
    "    random_cluster = f'{test_num}.c{(random.randint(1,num_clusters))}'\n",
    "    print(f'nodes_available: {nodes_available} amount_to_move: {amount_to_move}')\n",
    "    if nodes_available > 0 and nodes_available >= amount_to_move and nodes_available != 0:  # min 1 max 4\n",
    "        for node in range(amount_to_move):\n",
    "            nodes_available -= 1\n",
    "            move_index = randomized_node_indexes.pop(0)\n",
    "            print(f'move_index: {move_index}')\n",
    "            nodes[move_index].move_node(nodes[move_index].cluster_id, random_cluster)\n",
    "\n",
    "for i in range(len(clusters)):\n",
    "    print(clusters[i].member_nodes)\n"
   ],
   "metadata": {
    "collapsed": false,
    "pycharm": {
     "name": "#%%\n"
    }
   }
  },
  {
   "cell_type": "code",
   "execution_count": 21,
   "outputs": [
    {
     "name": "stdout",
     "output_type": "stream",
     "text": [
      "Cluster_id: 1.c1 Node_id: 1 Tree size: 8 Left size: 2 Right size: 5\n",
      "Cluster_id: 1.c2 Node_id: 2 Tree size: 7 Left size: 3 Right size: 3\n",
      "Cluster_id: 1.c1 Node_id: 3 Tree size: 8 Left size: 2 Right size: 5\n",
      "Cluster_id: 1.c2 Node_id: 4 Tree size: 7 Left size: 3 Right size: 3\n",
      "Cluster_id: 1.c2 Node_id: 5 Tree size: 7 Left size: 3 Right size: 3\n",
      "Cluster_id: 1.c1 Node_id: 6 Tree size: 8 Left size: 2 Right size: 5\n",
      "Cluster_id: 1.c2 Node_id: 7 Tree size: 7 Left size: 3 Right size: 3\n",
      "Cluster_id: 1.c2 Node_id: 8 Tree size: 7 Left size: 3 Right size: 3\n",
      "Cluster_id: 1.c2 Node_id: 9 Tree size: 7 Left size: 3 Right size: 3\n",
      "Cluster_id: 1.c1 Node_id: 10 Tree size: 8 Left size: 2 Right size: 5\n"
     ]
    }
   ],
   "source": [
    "\"\"\"Attempting to add a second block to the mkdtree_blockchain\"\"\"\n",
    "\n",
    "number_of_forges = 4\n",
    "\n",
    "for i in range(number_of_forges):\n",
    "    random_node = random.randint(0, num_nodes-1)\n",
    "    random_move = random.randint(0, num_nodes-1)\n",
    "    if 1 == random.randint(0,5):  # to cause random movement\n",
    "    #     random_move.node.move_node()\n",
    "    forge_node = nodes[random_node]\n",
    "    forge_node.mkd_forge()\n",
    "\n",
    "for node in nodes:\n",
    "    print(f'Cluster_id: {node.cluster_id} Node_id: {node.node_id} Tree size: {node.blockchain_size} Left size: {node.blockchain.blocks.left_size} Right size: {node.blockchain.blocks.right_size}')"
   ],
   "metadata": {
    "collapsed": false,
    "pycharm": {
     "name": "#%%\n"
    }
   }
  }
 ],
 "metadata": {
  "kernelspec": {
   "display_name": "Python 3",
   "language": "python",
   "name": "python3"
  },
  "language_info": {
   "codemirror_mode": {
    "name": "ipython",
    "version": 2
   },
   "file_extension": ".py",
   "mimetype": "text/x-python",
   "name": "python",
   "nbconvert_exporter": "python",
   "pygments_lexer": "ipython2",
   "version": "2.7.6"
  }
 },
 "nbformat": 4,
 "nbformat_minor": 0
}