{
 "cells": [
  {
   "cell_type": "code",
   "execution_count": 1,
   "metadata": {
    "collapsed": true
   },
   "outputs": [],
   "source": [
    "\"\"\"Import all the relevant libraries.\"\"\"\n",
    "\n",
    "from mkd_blockchain import MKDBlockchain\n",
    "from blockchain_utils import BlockchainUtils\n",
    "import block\n",
    "from pubsub import pub\n",
    "from node import Node\n",
    "from transaction import Transaction\n",
    "from sensor_transaction import SensorTransaction\n",
    "from transaction_pool import TransactionPool\n",
    "from wallet import Wallet\n",
    "from Crypto.PublicKey import RSA\n",
    "import pprint\n",
    "import random\n",
    "import time\n",
    "from cluster import Cluster\n",
    "import kdtree"
   ]
  },
  {
   "cell_type": "code",
   "execution_count": 2,
   "outputs": [
    {
     "name": "stdout",
     "output_type": "stream",
     "text": [
      "START\n",
      "block init time @ 10 nodes: 29.669002056121826\n",
      "cluster 1 initialized\n",
      "cluster 2 initialized\n",
      "cluster 3 initialized\n",
      "cluster 4 initialized\n",
      "cluster 5 initialized\n",
      "cluster 6 initialized\n",
      "cluster 7 initialized\n",
      "cluster 8 initialized\n",
      "cluster 9 initialized\n",
      "cluster 10 initialized\n",
      "cluster 11 initialized\n",
      "cluster 12 initialized\n",
      "cluster 13 initialized\n",
      "cluster 14 initialized\n",
      "cluster 15 initialized\n",
      "cluster 16 initialized\n",
      "time to complete broadcast to 10 nodes: 0.002007007598876953\n"
     ]
    }
   ],
   "source": [
    "\"\"\"Initialize Nodes with Genesis Block\"\"\"\n",
    "\n",
    "print('START')\n",
    "test_num = 1\n",
    "MAX_NODES = 9999\n",
    "num_nodes = 10\n",
    "num_clusters = 16\n",
    "forging_interval = 10  # Time interval.  10 units of time\n",
    "nodes = [] #list of all nodes\n",
    "blockchain_dimensions = 4\n",
    "genesis_node_id = int(num_nodes/2)\n",
    "\n",
    "#itterate through and initialize each node\n",
    "then = time.time()\n",
    "for i in range(num_nodes):\n",
    "    new_node = Node(test_num, i+1, 0)\n",
    "    #new_node.blockchain = mkd_blockchain\n",
    "    new_node.start_listener(f'{test_num}.c0')\n",
    "    nodes.append(new_node)\n",
    "now = time.time()-then\n",
    "print(f'block init time @ {num_nodes} nodes: {now}')\n",
    "\n",
    "#  initialize each cluster\n",
    "clusters = []\n",
    "for i in range(num_clusters):\n",
    "    new_cluster = Cluster(i+1, test_num)\n",
    "    new_cluster.start_listener(f'{test_num}.c{i+1}')\n",
    "    clusters.append(new_cluster)\n",
    "    print(f'cluster {new_cluster.cluster_id} initialized')\n",
    "\n",
    "genesis_forger = nodes[genesis_node_id-1].wallet.public_key_string()\n",
    "mkd_blockchain = MKDBlockchain(blockchain_dimensions, genesis_node_id, genesis_forger)\n",
    "\n",
    "\n",
    "publisher = nodes[genesis_node_id-1]\n",
    "\n",
    "start_broadcast = time.time()\n",
    "publisher.publish(mkd_blockchain)\n",
    "completed_broadcast = time.time() - start_broadcast\n",
    "print(f'time to complete broadcast to {num_nodes} nodes: {completed_broadcast}')"
   ],
   "metadata": {
    "collapsed": false,
    "pycharm": {
     "name": "#%%\n"
    }
   }
  },
  {
   "cell_type": "code",
   "execution_count": 3,
   "outputs": [
    {
     "name": "stdout",
     "output_type": "stream",
     "text": [
      "\n",
      "\n",
      "      Block([5, 0, 0, 1626884043.8482466]), 6ccf29937e7171d43179a8964924d229031a104e \n",
      "\n",
      "                 Block([5, 116, 210, 1626884043.8482466]), 6ccf29937e7171d43179a8964924d229031a104e \n",
      "\n",
      "Root subtreeHash attempt: 6ccf29937e7171d43179a8964924d229031a104e\n",
      "\n",
      "\n",
      "      Block([5, 0, 0, 1626884043.8482466]), 651d1c99e3dd43946d727501779c6e0963a89040 \n",
      "\n",
      "      Block([1, 602, 161, 1626884043.8482466]), 361cedcab1f955d83732dc864fb69cde0bb77b70 Block([5, 116, 210, 1626884043.8482466]), bf21a9e8fbc5a3846fb05b4fa0859e0917b2202f \n",
      "\n",
      "Root subtreeHash attempt: 6ccf29937e7171d43179a8964924d229031a104e\n",
      "\n",
      "\n",
      "      Block([5, 0, 0, 1626884043.8482466]), 5f7b6238d483f8454843d932bccc228aa52247ba \n",
      "\n",
      "      Block([1, 602, 161, 1626884043.8482466]), 549c247edf28fc463df32d79468c1ca4a3fd98d4 Block([5, 116, 210, 1626884043.8482466]), bf21a9e8fbc5a3846fb05b4fa0859e0917b2202f \n",
      "\n",
      "      Block([4, 151, 906, 1626884043.8482466]), 549c247edf28fc463df32d79468c1ca4a3fd98d4                                  \n",
      "\n",
      "Root subtreeHash attempt: 6ccf29937e7171d43179a8964924d229031a104e\n"
     ]
    }
   ],
   "source": [
    "\"\"\"Attempting to add a second block to the kdtree_blockchain\"\"\"\n",
    "\n",
    "attempt_node_id = 5\n",
    "attempt_node = nodes[attempt_node_id-1]\n",
    "\n",
    "attempt_node.mkd_forge()\n",
    "\n",
    "kdtree.visualize(attempt_node.blockchain.blocks)\n",
    "print(f'Root subtreeHash attempt: {nodes[4].blockchain.blocks.subtree_hash}')\n",
    "\n",
    "attempt_node_id = 1\n",
    "attempt_node = nodes[attempt_node_id-1]\n",
    "\n",
    "attempt_node.mkd_forge()\n",
    "\n",
    "kdtree.visualize(attempt_node.blockchain.blocks)\n",
    "print(f'Root subtreeHash attempt: {nodes[4].blockchain.blocks.subtree_hash}')\n",
    "\n",
    "attempt_node_id = 4\n",
    "attempt_node = nodes[attempt_node_id-1]\n",
    "\n",
    "attempt_node.mkd_forge()\n",
    "\n",
    "kdtree.visualize(attempt_node.blockchain.blocks)\n",
    "print(f'Root subtreeHash attempt: {nodes[4].blockchain.blocks.subtree_hash}')"
   ],
   "metadata": {
    "collapsed": false,
    "pycharm": {
     "name": "#%%\n"
    }
   }
  },
  {
   "cell_type": "code",
   "execution_count": 4,
   "outputs": [
    {
     "ename": "AttributeError",
     "evalue": "'NoneType' object has no attribute 'data'",
     "output_type": "error",
     "traceback": [
      "\u001B[1;31m---------------------------------------------------------------------------\u001B[0m",
      "\u001B[1;31mAttributeError\u001B[0m                            Traceback (most recent call last)",
      "\u001B[1;32m<ipython-input-4-4a9106d8c690>\u001B[0m in \u001B[0;36m<module>\u001B[1;34m\u001B[0m\n\u001B[1;32m----> 1\u001B[1;33m \u001B[0mtest_block\u001B[0m \u001B[1;33m=\u001B[0m \u001B[0mnodes\u001B[0m\u001B[1;33m[\u001B[0m\u001B[1;36m5\u001B[0m\u001B[1;33m]\u001B[0m\u001B[1;33m.\u001B[0m\u001B[0mblockchain\u001B[0m\u001B[1;33m.\u001B[0m\u001B[0mblocks\u001B[0m\u001B[1;33m.\u001B[0m\u001B[0mleft\u001B[0m\u001B[1;33m.\u001B[0m\u001B[0mright\u001B[0m\u001B[1;33m.\u001B[0m\u001B[0mdata\u001B[0m\u001B[1;33m\u001B[0m\u001B[1;33m\u001B[0m\u001B[0m\n\u001B[0m\u001B[0;32m      2\u001B[0m \u001B[0mprint\u001B[0m\u001B[1;33m(\u001B[0m\u001B[0mtest_block\u001B[0m\u001B[1;33m)\u001B[0m\u001B[1;33m\u001B[0m\u001B[1;33m\u001B[0m\u001B[0m\n\u001B[0;32m      3\u001B[0m \u001B[0mprint\u001B[0m\u001B[1;33m(\u001B[0m\u001B[1;34mf'Parent Hash: {BlockchainUtils.hash(test_block.to_json()).hexdigest()}'\u001B[0m\u001B[1;33m)\u001B[0m\u001B[1;33m\u001B[0m\u001B[1;33m\u001B[0m\u001B[0m\n\u001B[0;32m      4\u001B[0m \u001B[0mchild_block\u001B[0m \u001B[1;33m=\u001B[0m \u001B[0mnodes\u001B[0m\u001B[1;33m[\u001B[0m\u001B[1;36m5\u001B[0m\u001B[1;33m]\u001B[0m\u001B[1;33m.\u001B[0m\u001B[0mblockchain\u001B[0m\u001B[1;33m.\u001B[0m\u001B[0mblocks\u001B[0m\u001B[1;33m.\u001B[0m\u001B[0mleft\u001B[0m\u001B[1;33m.\u001B[0m\u001B[0mright\u001B[0m\u001B[1;33m.\u001B[0m\u001B[0mright\u001B[0m\u001B[1;33m.\u001B[0m\u001B[0mdata\u001B[0m\u001B[1;33m\u001B[0m\u001B[1;33m\u001B[0m\u001B[0m\n\u001B[0;32m      5\u001B[0m \u001B[0mprint\u001B[0m\u001B[1;33m(\u001B[0m\u001B[0mchild_block\u001B[0m\u001B[1;33m)\u001B[0m\u001B[1;33m\u001B[0m\u001B[1;33m\u001B[0m\u001B[0m\n",
      "\u001B[1;31mAttributeError\u001B[0m: 'NoneType' object has no attribute 'data'"
     ]
    }
   ],
   "source": [
    "test_block = nodes[5].blockchain.blocks.left.right.data\n",
    "print(test_block)\n",
    "print(f'Parent Hash: {BlockchainUtils.hash(test_block.to_json()).hexdigest()}')\n",
    "child_block = nodes[5].blockchain.blocks.left.right.right.data\n",
    "print(child_block)"
   ],
   "metadata": {
    "collapsed": false,
    "pycharm": {
     "name": "#%%\n"
    }
   }
  }
 ],
 "metadata": {
  "kernelspec": {
   "display_name": "Python 3",
   "language": "python",
   "name": "python3"
  },
  "language_info": {
   "codemirror_mode": {
    "name": "ipython",
    "version": 2
   },
   "file_extension": ".py",
   "mimetype": "text/x-python",
   "name": "python",
   "nbconvert_exporter": "python",
   "pygments_lexer": "ipython2",
   "version": "2.7.6"
  }
 },
 "nbformat": 4,
 "nbformat_minor": 0
}