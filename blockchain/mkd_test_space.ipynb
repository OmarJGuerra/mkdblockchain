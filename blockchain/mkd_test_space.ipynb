{
 "cells": [
  {
   "cell_type": "code",
   "execution_count": 1,
   "metadata": {
    "collapsed": true
   },
   "outputs": [],
   "source": [
    "\"\"\"Import all the relevant libraries.\"\"\"\n",
    "\n",
    "from mkd_blockchain import MKDBlockchain\n",
    "from blockchain_utils import BlockchainUtils\n",
    "import block\n",
    "from pubsub import pub\n",
    "from node import Node\n",
    "from transaction import Transaction\n",
    "from sensor_transaction import SensorTransaction\n",
    "from transaction_pool import TransactionPool\n",
    "from wallet import Wallet\n",
    "from Crypto.PublicKey import RSA\n",
    "import pprint\n",
    "import random\n",
    "import time\n",
    "from cluster import Cluster\n",
    "import kdtree"
   ]
  },
  {
   "cell_type": "code",
   "execution_count": 2,
   "outputs": [
    {
     "name": "stdout",
     "output_type": "stream",
     "text": [
      "START\n",
      "block init time @ 10 nodes: 19.885000705718994\n",
      "cluster 1 initialized\n",
      "cluster 2 initialized\n",
      "cluster 3 initialized\n",
      "cluster 4 initialized\n",
      "cluster 5 initialized\n",
      "cluster 6 initialized\n",
      "cluster 7 initialized\n",
      "cluster 8 initialized\n",
      "cluster 9 initialized\n",
      "cluster 10 initialized\n",
      "cluster 11 initialized\n",
      "cluster 12 initialized\n",
      "cluster 13 initialized\n",
      "cluster 14 initialized\n",
      "cluster 15 initialized\n",
      "cluster 16 initialized\n",
      "time to complete broadcast to 10 nodes: 0.0010008811950683594\n"
     ]
    }
   ],
   "source": [
    "\"\"\"Initialize Nodes with Genesis Block\"\"\"\n",
    "\n",
    "print('START')\n",
    "test_num = 1\n",
    "MAX_NODES = 9999\n",
    "num_nodes = 10\n",
    "num_clusters = 16\n",
    "forging_interval = 10  # Time interval.  10 units of time\n",
    "nodes = [] #list of all nodes\n",
    "blockchain_dimensions = 4\n",
    "genesis_node_id = int(num_nodes/2)\n",
    "\n",
    "#itterate through and initialize each node\n",
    "then = time.time()\n",
    "for i in range(num_nodes):\n",
    "    new_node = Node(test_num, i+1, 0)\n",
    "    #new_node.blockchain = mkd_blockchain\n",
    "    new_node.start_listener(f'{test_num}.c0')\n",
    "    nodes.append(new_node)\n",
    "now = time.time()-then\n",
    "print(f'block init time @ {num_nodes} nodes: {now}')\n",
    "\n",
    "#  initialize each cluster\n",
    "clusters = []\n",
    "for i in range(num_clusters):\n",
    "    new_cluster = Cluster(i+1, test_num)\n",
    "    new_cluster.start_listener(f'{test_num}.c{i+1}')\n",
    "    clusters.append(new_cluster)\n",
    "    print(f'cluster {new_cluster.cluster_id} initialized')\n",
    "\n",
    "genesis_forger = nodes[genesis_node_id-1].wallet.public_key_string()\n",
    "mkd_blockchain = MKDBlockchain(blockchain_dimensions, genesis_node_id, genesis_forger)\n",
    "\n",
    "\n",
    "publisher = nodes[genesis_node_id-1]\n",
    "\n",
    "start_broadcast = time.time()\n",
    "publisher.publish(mkd_blockchain)\n",
    "completed_broadcast = time.time() - start_broadcast\n",
    "print(f'time to complete broadcast to {num_nodes} nodes: {completed_broadcast}')"
   ],
   "metadata": {
    "collapsed": false,
    "pycharm": {
     "name": "#%%\n"
    }
   }
  },
  {
   "cell_type": "code",
   "execution_count": 3,
   "outputs": [
    {
     "name": "stdout",
     "output_type": "stream",
     "text": [
      "Node_id: 1\n",
      "Tree size: 101\n",
      "Left size: 41\n",
      "Right size: 59\n",
      "Node_id: 2\n",
      "Tree size: 101\n",
      "Left size: 41\n",
      "Right size: 59\n",
      "Node_id: 3\n",
      "Tree size: 101\n",
      "Left size: 41\n",
      "Right size: 59\n",
      "Node_id: 4\n",
      "Tree size: 101\n",
      "Left size: 41\n",
      "Right size: 59\n",
      "Node_id: 5\n",
      "Tree size: 101\n",
      "Left size: 41\n",
      "Right size: 59\n",
      "Node_id: 6\n",
      "Tree size: 101\n",
      "Left size: 41\n",
      "Right size: 59\n",
      "Node_id: 7\n",
      "Tree size: 101\n",
      "Left size: 41\n",
      "Right size: 59\n",
      "Node_id: 8\n",
      "Tree size: 101\n",
      "Left size: 41\n",
      "Right size: 59\n",
      "Node_id: 9\n",
      "Tree size: 101\n",
      "Left size: 41\n",
      "Right size: 59\n",
      "Node_id: 10\n",
      "Tree size: 101\n",
      "Left size: 41\n",
      "Right size: 59\n"
     ]
    }
   ],
   "source": [
    "\"\"\"Attempting to add a second block to the kdtree_blockchain\"\"\"\n",
    "number_of_forges = 100\n",
    "\n",
    "for i in range(number_of_forges):\n",
    "    random_node = random.randint(0, num_nodes-1)\n",
    "    forge_node = nodes[random_node]\n",
    "    forge_node.mkd_forge()\n",
    "\n",
    "for node in nodes:\n",
    "    print(f'Node_id: {node.node_id}')\n",
    "    print(f'Tree size: {node.blockchain_size}')\n",
    "    print(f'Left size: {node.blockchain.blocks.left_size}')\n",
    "    print(f'Right size: {node.blockchain.blocks.right_size}')"
   ],
   "metadata": {
    "collapsed": false,
    "pycharm": {
     "name": "#%%\n"
    }
   }
  }
 ],
 "metadata": {
  "kernelspec": {
   "display_name": "Python 3",
   "language": "python",
   "name": "python3"
  },
  "language_info": {
   "codemirror_mode": {
    "name": "ipython",
    "version": 2
   },
   "file_extension": ".py",
   "mimetype": "text/x-python",
   "name": "python",
   "nbconvert_exporter": "python",
   "pygments_lexer": "ipython2",
   "version": "2.7.6"
  }
 },
 "nbformat": 4,
 "nbformat_minor": 0
}