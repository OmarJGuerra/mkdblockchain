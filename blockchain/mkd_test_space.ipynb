{
 "cells": [
  {
   "cell_type": "code",
   "execution_count": 25,
   "metadata": {
    "collapsed": true
   },
   "outputs": [],
   "source": [
    "\"\"\"Import all the relevant libraries.\"\"\"\n",
    "\n",
    "from mkd_blockchain import MKDBlockchain\n",
    "from blockchain_utils import BlockchainUtils\n",
    "import block\n",
    "from pubsub import pub\n",
    "from node import Node\n",
    "from transaction import Transaction\n",
    "from sensor_transaction import SensorTransaction\n",
    "from transaction_pool import TransactionPool\n",
    "from wallet import Wallet\n",
    "from Crypto.PublicKey import RSA\n",
    "import pprint\n",
    "import random\n",
    "import time\n",
    "from cluster import Cluster\n",
    "import kdtree\n",
    "import copy"
   ]
  },
  {
   "cell_type": "code",
   "execution_count": 26,
   "outputs": [
    {
     "name": "stdout",
     "output_type": "stream",
     "text": [
      "START\n",
      "node init time @ 100 nodes: 253.14191246032715\n"
     ]
    }
   ],
   "source": [
    "\"\"\"Initialize Nodes\"\"\"\n",
    "\n",
    "print('START')\n",
    "test_num = 1\n",
    "cycles = 10\n",
    "MAX_NODES = 9999\n",
    "num_nodes = 100\n",
    "num_clusters = 1\n",
    "forging_interval = 2  # Time interval.  units of cycle\n",
    "nodes = [] #list of all nodes\n",
    "blockchain_dimensions = 4\n",
    "genesis_node_id = int(num_nodes/2)\n",
    "\n",
    "#itterate through and initialize each node\n",
    "then = time.time()\n",
    "for i in range(num_nodes):\n",
    "    new_node = Node(test_num, i+1, f'{test_num}.c0')\n",
    "    #new_node.blockchain = mkd_blockchain\n",
    "    new_node.start_listener(f'{test_num}.c0')\n",
    "    nodes.append(new_node)\n",
    "now = time.time()-then\n",
    "print(f'node init time @ {num_nodes} nodes: {now}')"
   ],
   "metadata": {
    "collapsed": false,
    "pycharm": {
     "name": "#%%\n"
    }
   }
  },
  {
   "cell_type": "code",
   "execution_count": 27,
   "outputs": [
    {
     "name": "stdout",
     "output_type": "stream",
     "text": [
      "cluster 0 initialized\n"
     ]
    }
   ],
   "source": [
    "\"\"\"Initialize clusters\"\"\"\n",
    "#  initialize each cluster\n",
    "clusters = []\n",
    "for i in range(num_clusters):\n",
    "    new_cluster = Cluster(i, test_num)\n",
    "    new_cluster.start_listener(f'{test_num}.c{i}')\n",
    "    clusters.append(new_cluster)\n",
    "    print(f'cluster {new_cluster.cluster_id} initialized')"
   ],
   "metadata": {
    "collapsed": false,
    "pycharm": {
     "name": "#%%\n"
    }
   }
  },
  {
   "cell_type": "code",
   "execution_count": 28,
   "outputs": [
    {
     "name": "stdout",
     "output_type": "stream",
     "text": [
      "time to complete broadcast of genesis block Block([50, 0, 0, 1627074464.1930962]) to 100 nodes: 0.01699972152709961\n"
     ]
    }
   ],
   "source": [
    "\"\"\"Create genesis block and publish to each node\"\"\"\n",
    "\n",
    "genesis_forger = nodes[genesis_node_id-1].wallet.public_key_string()\n",
    "mkd_blockchain = MKDBlockchain(blockchain_dimensions, genesis_node_id, genesis_forger)\n",
    "publisher = nodes[genesis_node_id-1]\n",
    "start_broadcast = time.time()\n",
    "publisher.publish(mkd_blockchain)\n",
    "completed_broadcast = time.time() - start_broadcast\n",
    "print(f'time to complete broadcast of genesis block {mkd_blockchain.blocks.data} to {num_nodes} nodes: {completed_broadcast}')"
   ],
   "metadata": {
    "collapsed": false,
    "pycharm": {
     "name": "#%%\n"
    }
   }
  },
  {
   "cell_type": "code",
   "execution_count": 29,
   "outputs": [
    {
     "name": "stdout",
     "output_type": "stream",
     "text": [
      "[24, 62, 23, 92, 7, 39, 56, 28, 32, 72, 95, 81, 8, 86, 10, 14, 2, 47, 48, 49, 4, 76, 20, 79, 44, 19, 25, 82, 21, 68, 57, 26, 55, 46, 70, 61, 3, 35, 51, 63, 50, 17, 73, 65, 12, 40, 71, 66, 16, 36, 5, 93, 54, 97, 60, 75, 53, 38, 69, 59, 11, 58, 42, 74, 64, 78, 98, 90, 77, 87, 33, 13, 6, 85, 80, 29, 31, 84, 27, 88, 91, 34, 45, 37, 99, 52, 94, 41, 30, 1, 15, 43, 0, 18, 89, 83, 96, 22, 67, 9]\n"
     ]
    }
   ],
   "source": [
    "'''Create randomized list of node indexes'''\n",
    "\n",
    "randomized_node_indexes = []\n",
    "for i in range(num_nodes):\n",
    "    randomized_node_indexes.append(i)\n",
    "randomized_node_indexes: random.shuffle(randomized_node_indexes)\n",
    "print(randomized_node_indexes)"
   ],
   "metadata": {
    "collapsed": false,
    "pycharm": {
     "name": "#%%\n"
    }
   }
  },
  {
   "cell_type": "code",
   "execution_count": 30,
   "outputs": [],
   "source": [
    "'''Randomly moves nodes into their initial clusters'''\n",
    "\n",
    "nodes_available = len(nodes)\n",
    "while nodes_available != 0:\n",
    "    amount_to_move = random.randint(0,2)\n",
    "    random_cluster = f'{test_num}.c{(random.randint(1,num_clusters))}'\n",
    "    if nodes_available > 0 and nodes_available >= amount_to_move and nodes_available != 0:  # min 1 max 4\n",
    "        for node in range(amount_to_move):\n",
    "            nodes_available -= 1\n",
    "            move_index = randomized_node_indexes.pop(0)\n",
    "            nodes[move_index].move_node(nodes[move_index].cluster_id, random_cluster)"
   ],
   "metadata": {
    "collapsed": false,
    "pycharm": {
     "name": "#%%\n"
    }
   }
  },
  {
   "cell_type": "code",
   "execution_count": 31,
   "outputs": [
    {
     "name": "stdout",
     "output_type": "stream",
     "text": [
      "Final Tree size: 501 Left branch size: 148 Right branch size: 352\n"
     ]
    }
   ],
   "source": [
    "'''Going to generate random transactions to publish at random intervals'''\n",
    "\n",
    "# return true or false randomly\n",
    "def gen_random():\n",
    "    return bool(random.getrandbits(1))\n",
    "\n",
    "# Traverses all nodes during each cycle and randomly creates transactions and moves nodes and forges a block at the chosen forge interval\n",
    "for i in range(cycles):\n",
    "    for node in nodes:\n",
    "        if gen_random():  # Generate transactions randomly\n",
    "            transaction = SensorTransaction(node.wallet.public_key_string(), random.randint(0,1000))\n",
    "            node.publish(transaction)\n",
    "        if gen_random():  # Moves the nodes randomly\n",
    "            random_cluster = f'{test_num}.c{(random.randint(1,num_clusters))}'\n",
    "            node.move_node(node.cluster_id, random_cluster)\n",
    "        if i%forging_interval == 0:  # Forges at chosen forge interval in cycles\n",
    "            for cluster in clusters:  # Each cluster forges a block at the chosen interval\n",
    "                forger = cluster.next_forger()\n",
    "                for cluster_node in cluster.member_nodes:\n",
    "                    if cluster_node.wallet.public_key_string() == forger and cluster_node.transaction_pool.transactions is not []:\n",
    "                        cluster_node.mkd_forge()\n",
    "\n",
    "#  Need to move all nodes into the same cluster at the end and merge all chains\n",
    "for node in nodes:\n",
    "    random_cluster = f'{test_num}.c1'\n",
    "    node.move_node(node.cluster_id, random_cluster)\n",
    "\n",
    "\n",
    "print(f'Final Tree size: {clusters[0].member_nodes[0].blockchain.blocks.size} Left branch size: {clusters[0].member_nodes[0].blockchain.blocks.left_size} Right branch size: {clusters[0].member_nodes[0].blockchain.blocks.right_size}')\n",
    "# print(f'Cluster mkd-tree blockchain: ')\n",
    "# kdtree.visualize(clusters[0].member_nodes[0].blockchain.blocks)"
   ],
   "metadata": {
    "collapsed": false,
    "pycharm": {
     "name": "#%%\n"
    }
   }
  },
  {
   "cell_type": "code",
   "execution_count": 32,
   "outputs": [
    {
     "data": {
      "text/plain": "'Forge random blocks at random intervals (need to code for specific forging triggers)'"
     },
     "execution_count": 32,
     "metadata": {},
     "output_type": "execute_result"
    }
   ],
   "source": [
    "\"\"\"Forge random blocks at random intervals (need to code for specific forging triggers)\"\"\"\n",
    "\n",
    "# number_of_forges = 4\n",
    "#\n",
    "# for i in range(number_of_forges):\n",
    "#     random_node = random.randint(0, num_nodes-1)\n",
    "#     random_move = random.randint(0, num_nodes-1)\n",
    "#     # if 1 == random.randint(0,5):  # to cause random movement\n",
    "#     #      random_move.node.move_node()\n",
    "#     forge_node = nodes[random_node]\n",
    "#     forge_node.mkd_forge()\n",
    "#\n",
    "# for node in nodes:\n",
    "#     print(f'Cluster_id: {node.cluster_id} Node_id: {node.node_id} Tree size: {node.blockchain.blocks.size} Left size: {node.blockchain.blocks.left_size} Right size: {node.blockchain.blocks.right_size}')"
   ],
   "metadata": {
    "collapsed": false,
    "pycharm": {
     "name": "#%%\n"
    }
   }
  }
 ],
 "metadata": {
  "kernelspec": {
   "display_name": "Python 3",
   "language": "python",
   "name": "python3"
  },
  "language_info": {
   "codemirror_mode": {
    "name": "ipython",
    "version": 2
   },
   "file_extension": ".py",
   "mimetype": "text/x-python",
   "name": "python",
   "nbconvert_exporter": "python",
   "pygments_lexer": "ipython2",
   "version": "2.7.6"
  }
 },
 "nbformat": 4,
 "nbformat_minor": 0
}