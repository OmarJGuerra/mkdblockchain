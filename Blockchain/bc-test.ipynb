{
 "cells": [
  {
   "cell_type": "code",
   "execution_count": 16,
   "metadata": {
    "collapsed": true
   },
   "outputs": [
    {
     "name": "stdout",
     "output_type": "stream",
     "text": [
      "START\n"
     ]
    }
   ],
   "source": [
    "from Blockchain import Blockchain\n",
    "from BlockchainUtils import BlockchainUtils\n",
    "from Transaction import Transaction\n",
    "from TransactionPool import TransactionPool\n",
    "from Wallet import Wallet\n",
    "from Crypto.PublicKey import RSA\n",
    "import pprint\n",
    "import random\n",
    "import time\n",
    "\n",
    "print('START')\n",
    "MAX_NODES = 9999\n",
    "num_nodes = 80\n",
    "\n",
    "nodeid_list = [int(MAX_NODES/2)]"
   ]
  },
  {
   "cell_type": "code",
   "execution_count": 17,
   "outputs": [
    {
     "name": "stdout",
     "output_type": "stream",
     "text": [
      "PRE-LOOP\n",
      "IN-LOOP\n",
      "IN-LOOP\n",
      "IN-LOOP\n",
      "IN-LOOP\n",
      "IN-LOOP\n",
      "IN-LOOP\n",
      "IN-LOOP\n",
      "IN-LOOP\n",
      "IN-LOOP\n",
      "IN-LOOP\n",
      "IN-LOOP\n",
      "IN-LOOP\n",
      "IN-LOOP\n",
      "IN-LOOP\n",
      "IN-LOOP\n",
      "IN-LOOP\n",
      "IN-LOOP\n",
      "IN-LOOP\n",
      "IN-LOOP\n",
      "IN-LOOP\n",
      "IN-LOOP\n",
      "IN-LOOP\n",
      "IN-LOOP\n",
      "IN-LOOP\n",
      "IN-LOOP\n",
      "IN-LOOP\n",
      "IN-LOOP\n",
      "IN-LOOP\n",
      "IN-LOOP\n",
      "IN-LOOP\n",
      "IN-LOOP\n",
      "IN-LOOP\n",
      "IN-LOOP\n",
      "IN-LOOP\n",
      "IN-LOOP\n",
      "IN-LOOP\n",
      "IN-LOOP\n",
      "IN-LOOP\n",
      "IN-LOOP\n",
      "IN-LOOP\n",
      "IN-LOOP\n",
      "IN-LOOP\n",
      "IN-LOOP\n",
      "IN-LOOP\n",
      "IN-LOOP\n",
      "IN-LOOP\n",
      "IN-LOOP\n",
      "IN-LOOP\n",
      "IN-LOOP\n",
      "IN-LOOP\n",
      "IN-LOOP\n",
      "IN-LOOP\n",
      "IN-LOOP\n",
      "IN-LOOP\n",
      "IN-LOOP\n",
      "IN-LOOP\n",
      "IN-LOOP\n",
      "IN-LOOP\n",
      "IN-LOOP\n",
      "IN-LOOP\n",
      "IN-LOOP\n",
      "IN-LOOP\n",
      "IN-LOOP\n",
      "IN-LOOP\n",
      "IN-LOOP\n",
      "IN-LOOP\n",
      "IN-LOOP\n",
      "IN-LOOP\n",
      "IN-LOOP\n",
      "IN-LOOP\n",
      "IN-LOOP\n",
      "IN-LOOP\n",
      "IN-LOOP\n",
      "IN-LOOP\n",
      "IN-LOOP\n",
      "IN-LOOP\n",
      "IN-LOOP\n",
      "IN-LOOP\n",
      "IN-LOOP\n",
      "POST-LOOP\n",
      "[4999, 722, 5145, 9461, 3541, 577, 7941, 281, 532, 3272, 6052, 6297, 6714, 1210, 9439, 4264, 2784, 6831, 7298, 2326, 7455, 7647, 9528, 6026, 8066, 9221, 5396, 1866, 4987, 7034, 1668, 5998, 379, 7720, 2456, 7999, 9413, 9146, 2203, 7635, 1381, 6814, 3127, 4058, 6402, 9911, 5517, 9869, 3581, 603, 8898, 1404, 5080, 8994, 2599, 4418, 2272, 9015, 3986, 6693, 7075, 3032, 9241, 2395, 6470, 7613, 6113, 4414, 8581, 7544, 2311, 5647, 6462, 9169, 8697, 6079, 535, 4178, 7375, 4199]\n"
     ]
    }
   ],
   "source": [
    "print('PRE-LOOP')\n",
    "while True:\n",
    "    print('IN-LOOP')\n",
    "    selected_node = random.randint(0, MAX_NODES)\n",
    "    if selected_node not in nodeid_list:\n",
    "        nodeid_list.append(selected_node)\n",
    "    if len(nodeid_list) == num_nodes:\n",
    "        break\n",
    "print('POST-LOOP')\n",
    "\n",
    "print(nodeid_list)"
   ],
   "metadata": {
    "collapsed": false,
    "pycharm": {
     "name": "#%%\n"
    }
   }
  },
  {
   "cell_type": "code",
   "execution_count": 18,
   "outputs": [
    {
     "name": "stdout",
     "output_type": "stream",
     "text": [
      "PRE-N-LOOP\n",
      "IN-N-LOOP\n",
      "IN-N-LOOP\n",
      "IN-N-LOOP\n",
      "IN-N-LOOP\n",
      "IN-N-LOOP\n",
      "IN-N-LOOP\n",
      "IN-N-LOOP\n",
      "IN-N-LOOP\n",
      "IN-N-LOOP\n",
      "IN-N-LOOP\n",
      "IN-N-LOOP\n",
      "IN-N-LOOP\n",
      "IN-N-LOOP\n",
      "IN-N-LOOP\n",
      "IN-N-LOOP\n",
      "IN-N-LOOP\n",
      "IN-N-LOOP\n",
      "IN-N-LOOP\n",
      "IN-N-LOOP\n",
      "IN-N-LOOP\n",
      "IN-N-LOOP\n",
      "IN-N-LOOP\n",
      "IN-N-LOOP\n",
      "IN-N-LOOP\n",
      "IN-N-LOOP\n",
      "IN-N-LOOP\n",
      "IN-N-LOOP\n",
      "IN-N-LOOP\n",
      "IN-N-LOOP\n",
      "IN-N-LOOP\n",
      "IN-N-LOOP\n",
      "IN-N-LOOP\n",
      "IN-N-LOOP\n",
      "IN-N-LOOP\n",
      "IN-N-LOOP\n",
      "IN-N-LOOP\n",
      "IN-N-LOOP\n",
      "IN-N-LOOP\n",
      "IN-N-LOOP\n"
     ]
    },
    {
     "ename": "KeyboardInterrupt",
     "evalue": "",
     "output_type": "error",
     "traceback": [
      "\u001B[1;31m---------------------------------------------------------------------------\u001B[0m",
      "\u001B[1;31mKeyboardInterrupt\u001B[0m                         Traceback (most recent call last)",
      "\u001B[1;32m<ipython-input-18-858e7b20c0e2>\u001B[0m in \u001B[0;36m<module>\u001B[1;34m\u001B[0m\n\u001B[0;32m      5\u001B[0m \u001B[1;32mfor\u001B[0m \u001B[0mn\u001B[0m \u001B[1;32min\u001B[0m \u001B[0mnodeid_list\u001B[0m\u001B[1;33m:\u001B[0m\u001B[1;33m\u001B[0m\u001B[1;33m\u001B[0m\u001B[0m\n\u001B[0;32m      6\u001B[0m     \u001B[0mprint\u001B[0m\u001B[1;33m(\u001B[0m\u001B[1;34m'IN-N-LOOP'\u001B[0m\u001B[1;33m)\u001B[0m\u001B[1;33m\u001B[0m\u001B[1;33m\u001B[0m\u001B[0m\n\u001B[1;32m----> 7\u001B[1;33m     \u001B[0mwallets\u001B[0m\u001B[1;33m[\u001B[0m\u001B[0mn\u001B[0m\u001B[1;33m]\u001B[0m \u001B[1;33m=\u001B[0m \u001B[0mWallet\u001B[0m\u001B[1;33m(\u001B[0m\u001B[1;33m)\u001B[0m\u001B[1;33m\u001B[0m\u001B[1;33m\u001B[0m\u001B[0m\n\u001B[0m\u001B[0;32m      8\u001B[0m     \u001B[1;31m# key_pairs[n] = RSA.generate(2048)\u001B[0m\u001B[1;33m\u001B[0m\u001B[1;33m\u001B[0m\u001B[1;33m\u001B[0m\u001B[0m\n\u001B[0;32m      9\u001B[0m \u001B[0mprint\u001B[0m\u001B[1;33m(\u001B[0m\u001B[1;34m'POST-N-LOOP'\u001B[0m\u001B[1;33m)\u001B[0m\u001B[1;33m\u001B[0m\u001B[1;33m\u001B[0m\u001B[0m\n",
      "\u001B[1;32mE:\\PyCharm Projects\\MKD-Blockchain\\Blockchain\\Wallet.py\u001B[0m in \u001B[0;36m__init__\u001B[1;34m(self)\u001B[0m\n\u001B[0;32m      8\u001B[0m \u001B[1;32mclass\u001B[0m \u001B[0mWallet\u001B[0m\u001B[1;33m(\u001B[0m\u001B[1;33m)\u001B[0m\u001B[1;33m:\u001B[0m\u001B[1;33m\u001B[0m\u001B[1;33m\u001B[0m\u001B[0m\n\u001B[0;32m      9\u001B[0m     \u001B[1;32mdef\u001B[0m \u001B[0m__init__\u001B[0m\u001B[1;33m(\u001B[0m\u001B[0mself\u001B[0m\u001B[1;33m)\u001B[0m\u001B[1;33m:\u001B[0m\u001B[1;33m\u001B[0m\u001B[1;33m\u001B[0m\u001B[0m\n\u001B[1;32m---> 10\u001B[1;33m         \u001B[0mself\u001B[0m\u001B[1;33m.\u001B[0m\u001B[0mkeyPair\u001B[0m \u001B[1;33m=\u001B[0m \u001B[0mRSA\u001B[0m\u001B[1;33m.\u001B[0m\u001B[0mgenerate\u001B[0m\u001B[1;33m(\u001B[0m\u001B[1;36m2048\u001B[0m\u001B[1;33m)\u001B[0m\u001B[1;33m\u001B[0m\u001B[1;33m\u001B[0m\u001B[0m\n\u001B[0m\u001B[0;32m     11\u001B[0m \u001B[1;33m\u001B[0m\u001B[0m\n\u001B[0;32m     12\u001B[0m     \u001B[1;32mdef\u001B[0m \u001B[0mfromKey\u001B[0m\u001B[1;33m(\u001B[0m\u001B[0mself\u001B[0m\u001B[1;33m,\u001B[0m \u001B[0mfile\u001B[0m\u001B[1;33m)\u001B[0m\u001B[1;33m:\u001B[0m\u001B[1;33m\u001B[0m\u001B[1;33m\u001B[0m\u001B[0m\n",
      "\u001B[1;32mE:\\Anaconda3\\envs\\bcenv\\lib\\site-packages\\Crypto\\PublicKey\\RSA.py\u001B[0m in \u001B[0;36mgenerate\u001B[1;34m(bits, randfunc, e)\u001B[0m\n\u001B[0;32m    446\u001B[0m             \u001B[1;32mreturn\u001B[0m \u001B[0mcandidate\u001B[0m \u001B[1;33m>\u001B[0m \u001B[0mmin_p\u001B[0m \u001B[1;32mand\u001B[0m \u001B[1;33m(\u001B[0m\u001B[0mcandidate\u001B[0m \u001B[1;33m-\u001B[0m \u001B[1;36m1\u001B[0m\u001B[1;33m)\u001B[0m\u001B[1;33m.\u001B[0m\u001B[0mgcd\u001B[0m\u001B[1;33m(\u001B[0m\u001B[0me\u001B[0m\u001B[1;33m)\u001B[0m \u001B[1;33m==\u001B[0m \u001B[1;36m1\u001B[0m\u001B[1;33m\u001B[0m\u001B[1;33m\u001B[0m\u001B[0m\n\u001B[0;32m    447\u001B[0m \u001B[1;33m\u001B[0m\u001B[0m\n\u001B[1;32m--> 448\u001B[1;33m         p = generate_probable_prime(exact_bits=size_p,\n\u001B[0m\u001B[0;32m    449\u001B[0m                                     \u001B[0mrandfunc\u001B[0m\u001B[1;33m=\u001B[0m\u001B[0mrandfunc\u001B[0m\u001B[1;33m,\u001B[0m\u001B[1;33m\u001B[0m\u001B[1;33m\u001B[0m\u001B[0m\n\u001B[0;32m    450\u001B[0m                                     prime_filter=filter_p)\n",
      "\u001B[1;32mE:\\Anaconda3\\envs\\bcenv\\lib\\site-packages\\Crypto\\Math\\Primality.py\u001B[0m in \u001B[0;36mgenerate_probable_prime\u001B[1;34m(**kwargs)\u001B[0m\n\u001B[0;32m    332\u001B[0m         \u001B[1;32mif\u001B[0m \u001B[1;32mnot\u001B[0m \u001B[0mprime_filter\u001B[0m\u001B[1;33m(\u001B[0m\u001B[0mcandidate\u001B[0m\u001B[1;33m)\u001B[0m\u001B[1;33m:\u001B[0m\u001B[1;33m\u001B[0m\u001B[1;33m\u001B[0m\u001B[0m\n\u001B[0;32m    333\u001B[0m             \u001B[1;32mcontinue\u001B[0m\u001B[1;33m\u001B[0m\u001B[1;33m\u001B[0m\u001B[0m\n\u001B[1;32m--> 334\u001B[1;33m         \u001B[0mresult\u001B[0m \u001B[1;33m=\u001B[0m \u001B[0mtest_probable_prime\u001B[0m\u001B[1;33m(\u001B[0m\u001B[0mcandidate\u001B[0m\u001B[1;33m,\u001B[0m \u001B[0mrandfunc\u001B[0m\u001B[1;33m)\u001B[0m\u001B[1;33m\u001B[0m\u001B[1;33m\u001B[0m\u001B[0m\n\u001B[0m\u001B[0;32m    335\u001B[0m     \u001B[1;32mreturn\u001B[0m \u001B[0mcandidate\u001B[0m\u001B[1;33m\u001B[0m\u001B[1;33m\u001B[0m\u001B[0m\n\u001B[0;32m    336\u001B[0m \u001B[1;33m\u001B[0m\u001B[0m\n",
      "\u001B[1;32mE:\\Anaconda3\\envs\\bcenv\\lib\\site-packages\\Crypto\\Math\\Primality.py\u001B[0m in \u001B[0;36mtest_probable_prime\u001B[1;34m(candidate, randfunc)\u001B[0m\n\u001B[0;32m    270\u001B[0m         \u001B[0mmr_iterations\u001B[0m \u001B[1;33m=\u001B[0m \u001B[1;36m1\u001B[0m\u001B[1;33m\u001B[0m\u001B[1;33m\u001B[0m\u001B[0m\n\u001B[0;32m    271\u001B[0m \u001B[1;33m\u001B[0m\u001B[0m\n\u001B[1;32m--> 272\u001B[1;33m     if miller_rabin_test(candidate, mr_iterations,\n\u001B[0m\u001B[0;32m    273\u001B[0m                          randfunc=randfunc) == COMPOSITE:\n\u001B[0;32m    274\u001B[0m         \u001B[1;32mreturn\u001B[0m \u001B[0mCOMPOSITE\u001B[0m\u001B[1;33m\u001B[0m\u001B[1;33m\u001B[0m\u001B[0m\n",
      "\u001B[1;32mE:\\Anaconda3\\envs\\bcenv\\lib\\site-packages\\Crypto\\Math\\Primality.py\u001B[0m in \u001B[0;36mmiller_rabin_test\u001B[1;34m(candidate, iterations, randfunc)\u001B[0m\n\u001B[0;32m     99\u001B[0m \u001B[1;33m\u001B[0m\u001B[0m\n\u001B[0;32m    100\u001B[0m         \u001B[1;31m# Step 4.3-4.4\u001B[0m\u001B[1;33m\u001B[0m\u001B[1;33m\u001B[0m\u001B[1;33m\u001B[0m\u001B[0m\n\u001B[1;32m--> 101\u001B[1;33m         \u001B[0mz\u001B[0m \u001B[1;33m=\u001B[0m \u001B[0mpow\u001B[0m\u001B[1;33m(\u001B[0m\u001B[0mbase\u001B[0m\u001B[1;33m,\u001B[0m \u001B[0mm\u001B[0m\u001B[1;33m,\u001B[0m \u001B[0mcandidate\u001B[0m\u001B[1;33m)\u001B[0m\u001B[1;33m\u001B[0m\u001B[1;33m\u001B[0m\u001B[0m\n\u001B[0m\u001B[0;32m    102\u001B[0m         \u001B[1;32mif\u001B[0m \u001B[0mz\u001B[0m \u001B[1;32min\u001B[0m \u001B[1;33m(\u001B[0m\u001B[0mone\u001B[0m\u001B[1;33m,\u001B[0m \u001B[0mminus_one\u001B[0m\u001B[1;33m)\u001B[0m\u001B[1;33m:\u001B[0m\u001B[1;33m\u001B[0m\u001B[1;33m\u001B[0m\u001B[0m\n\u001B[0;32m    103\u001B[0m             \u001B[1;32mcontinue\u001B[0m\u001B[1;33m\u001B[0m\u001B[1;33m\u001B[0m\u001B[0m\n",
      "\u001B[1;32mE:\\Anaconda3\\envs\\bcenv\\lib\\site-packages\\Crypto\\Math\\_IntegerNative.py\u001B[0m in \u001B[0;36m__pow__\u001B[1;34m(self, exponent, modulus)\u001B[0m\n\u001B[0;32m    149\u001B[0m     \u001B[1;32mdef\u001B[0m \u001B[0m__pow__\u001B[0m\u001B[1;33m(\u001B[0m\u001B[0mself\u001B[0m\u001B[1;33m,\u001B[0m \u001B[0mexponent\u001B[0m\u001B[1;33m,\u001B[0m \u001B[0mmodulus\u001B[0m\u001B[1;33m=\u001B[0m\u001B[1;32mNone\u001B[0m\u001B[1;33m)\u001B[0m\u001B[1;33m:\u001B[0m\u001B[1;33m\u001B[0m\u001B[1;33m\u001B[0m\u001B[0m\n\u001B[0;32m    150\u001B[0m         \u001B[0mresult\u001B[0m \u001B[1;33m=\u001B[0m \u001B[0mself\u001B[0m\u001B[1;33m.\u001B[0m\u001B[0m__class__\u001B[0m\u001B[1;33m(\u001B[0m\u001B[0mself\u001B[0m\u001B[1;33m)\u001B[0m\u001B[1;33m\u001B[0m\u001B[1;33m\u001B[0m\u001B[0m\n\u001B[1;32m--> 151\u001B[1;33m         \u001B[1;32mreturn\u001B[0m \u001B[0mresult\u001B[0m\u001B[1;33m.\u001B[0m\u001B[0minplace_pow\u001B[0m\u001B[1;33m(\u001B[0m\u001B[0mexponent\u001B[0m\u001B[1;33m,\u001B[0m \u001B[0mmodulus\u001B[0m\u001B[1;33m)\u001B[0m\u001B[1;33m\u001B[0m\u001B[1;33m\u001B[0m\u001B[0m\n\u001B[0m\u001B[0;32m    152\u001B[0m \u001B[1;33m\u001B[0m\u001B[0m\n\u001B[0;32m    153\u001B[0m     \u001B[1;32mdef\u001B[0m \u001B[0m__abs__\u001B[0m\u001B[1;33m(\u001B[0m\u001B[0mself\u001B[0m\u001B[1;33m)\u001B[0m\u001B[1;33m:\u001B[0m\u001B[1;33m\u001B[0m\u001B[1;33m\u001B[0m\u001B[0m\n",
      "\u001B[1;32mE:\\Anaconda3\\envs\\bcenv\\lib\\site-packages\\Crypto\\Math\\_IntegerCustom.py\u001B[0m in \u001B[0;36minplace_pow\u001B[1;34m(self, exponent, modulus)\u001B[0m\n\u001B[0;32m     95\u001B[0m         \u001B[0mout\u001B[0m \u001B[1;33m=\u001B[0m \u001B[0mcreate_string_buffer\u001B[0m\u001B[1;33m(\u001B[0m\u001B[0mmax_len\u001B[0m\u001B[1;33m)\u001B[0m\u001B[1;33m\u001B[0m\u001B[1;33m\u001B[0m\u001B[0m\n\u001B[0;32m     96\u001B[0m \u001B[1;33m\u001B[0m\u001B[0m\n\u001B[1;32m---> 97\u001B[1;33m         error = _raw_montgomery.monty_pow(\n\u001B[0m\u001B[0;32m     98\u001B[0m                     \u001B[0mout\u001B[0m\u001B[1;33m,\u001B[0m\u001B[1;33m\u001B[0m\u001B[1;33m\u001B[0m\u001B[0m\n\u001B[0;32m     99\u001B[0m                     \u001B[0mbase_b\u001B[0m\u001B[1;33m,\u001B[0m\u001B[1;33m\u001B[0m\u001B[1;33m\u001B[0m\u001B[0m\n",
      "\u001B[1;31mKeyboardInterrupt\u001B[0m: "
     ]
    }
   ],
   "source": [
    "# key_pair already exists in Wallet.py\n",
    "wallets = {}\n",
    "# key_pairs = {}\n",
    "print('PRE-N-LOOP')\n",
    "for n in nodeid_list:\n",
    "    print('IN-N-LOOP')\n",
    "    wallets[n] = Wallet()\n",
    "    # key_pairs[n] = RSA.generate(2048)\n",
    "print('POST-N-LOOP')\n",
    "\n",
    "print(f'nodeid_list size: {len(nodeid_list)}')\n",
    "print(f'nodeid_list: {nodeid_list}')"
   ],
   "metadata": {
    "collapsed": false,
    "pycharm": {
     "name": "#%%\n"
    }
   }
  },
  {
   "cell_type": "code",
   "execution_count": null,
   "outputs": [],
   "source": [
    "chain1 = Blockchain()\n",
    "chain2 = Blockchain()\n",
    "\n",
    "pool1 = TransactionPool()\n",
    "pool2 = TransactionPool()\n",
    "\n",
    "\n",
    "def create_transaction(sender, receiver, pool, amount, type):\n",
    "    transaction = Transaction(sender, receiver, amount, type)\n",
    "    pool.add_transaction(transaction)\n",
    "\n",
    "\n",
    "transactions1 = create_transaction(wallets[1].keyPair, wallets[2].keyPair, pool1, 100, 'TRANSFER')\n",
    "transactions2 = create_transaction(wallets[3].keyPair, wallets[4].keyPair, pool2, 226, 'TRANSFER')\n",
    "\n",
    "print(pool1)\n",
    "\n",
    "print('END')"
   ],
   "metadata": {
    "collapsed": false,
    "pycharm": {
     "name": "#%%\n"
    }
   }
  }
 ],
 "metadata": {
  "kernelspec": {
   "name": "pycharm-cd02ff8a",
   "language": "python",
   "display_name": "PyCharm (MKD-Blockchain)"
  },
  "language_info": {
   "codemirror_mode": {
    "name": "ipython",
    "version": 2
   },
   "file_extension": ".py",
   "mimetype": "text/x-python",
   "name": "python",
   "nbconvert_exporter": "python",
   "pygments_lexer": "ipython2",
   "version": "2.7.6"
  }
 },
 "nbformat": 4,
 "nbformat_minor": 0
}